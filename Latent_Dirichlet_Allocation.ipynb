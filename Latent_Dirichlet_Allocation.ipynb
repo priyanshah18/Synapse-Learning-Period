{
 "cells": [
  {
   "cell_type": "markdown",
   "metadata": {},
   "source": [
    "## Latent Dirichlet Allocation ##\n",
    "**Watch these videos:**\n",
    "- https://www.youtube.com/watch?v=azXCzI57Yfc\n",
    "- https://www.youtube.com/watch?v=T05t-SqKArY\n",
    "- https://www.youtube.com/watch?v=BaM1uiCpj_E\n",
    "\n",
    "LDA is used to classify text in a document to a particular topic. It builds a topic per document model and words per topic model, modeled as Dirichlet distributions. \n",
    "\n",
    "* Each document is modeled as a multinomial distribution of topics and each topic is modeled as a multinomial distribution of words.\n",
    "* LDA assumes that the every chunk of text we feed into it will contain words that are somehow related. Therefore choosing the right corpus of data is crucial. \n",
    "* It also assumes documents are produced from a mixture of topics. Those topics then generate words based on their probability distribution. "
   ]
  },
  {
   "cell_type": "markdown",
   "metadata": {},
   "source": [
    "## Step 1: Load the dataset\n",
    "\n",
    "The dataset we'll use is a list of over one million news headlines published over a period of 15 years. We'll start by loading it from the `abcnews-date-text.csv` file."
   ]
  },
  {
   "cell_type": "code",
   "execution_count": 1,
   "metadata": {},
   "outputs": [
    {
     "data": {
      "text/html": [
       "<div>\n",
       "<style scoped>\n",
       "    .dataframe tbody tr th:only-of-type {\n",
       "        vertical-align: middle;\n",
       "    }\n",
       "\n",
       "    .dataframe tbody tr th {\n",
       "        vertical-align: top;\n",
       "    }\n",
       "\n",
       "    .dataframe thead th {\n",
       "        text-align: right;\n",
       "    }\n",
       "</style>\n",
       "<table border=\"1\" class=\"dataframe\">\n",
       "  <thead>\n",
       "    <tr style=\"text-align: right;\">\n",
       "      <th></th>\n",
       "      <th>headline_text</th>\n",
       "      <th>index</th>\n",
       "    </tr>\n",
       "  </thead>\n",
       "  <tbody>\n",
       "    <tr>\n",
       "      <th>0</th>\n",
       "      <td>aba decides against community broadcasting lic...</td>\n",
       "      <td>0</td>\n",
       "    </tr>\n",
       "    <tr>\n",
       "      <th>1</th>\n",
       "      <td>act fire witnesses must be aware of defamation</td>\n",
       "      <td>1</td>\n",
       "    </tr>\n",
       "    <tr>\n",
       "      <th>2</th>\n",
       "      <td>a g calls for infrastructure protection summit</td>\n",
       "      <td>2</td>\n",
       "    </tr>\n",
       "    <tr>\n",
       "      <th>3</th>\n",
       "      <td>air nz staff in aust strike for pay rise</td>\n",
       "      <td>3</td>\n",
       "    </tr>\n",
       "    <tr>\n",
       "      <th>4</th>\n",
       "      <td>air nz strike to affect australian travellers</td>\n",
       "      <td>4</td>\n",
       "    </tr>\n",
       "  </tbody>\n",
       "</table>\n",
       "</div>"
      ],
      "text/plain": [
       "                                       headline_text  index\n",
       "0  aba decides against community broadcasting lic...      0\n",
       "1     act fire witnesses must be aware of defamation      1\n",
       "2     a g calls for infrastructure protection summit      2\n",
       "3           air nz staff in aust strike for pay rise      3\n",
       "4      air nz strike to affect australian travellers      4"
      ]
     },
     "execution_count": 1,
     "metadata": {},
     "output_type": "execute_result"
    }
   ],
   "source": [
    "'''\n",
    "Load the dataset from the CSV and save it to 'data_text'. We only need the'headline_text' column,\n",
    "so drop the rest of the columns. Call the final dataframe \"documents\" \n",
    "Then, add an 'index' column to the dataframe. Be sure to name it index.\n",
    "Hint: dataframe.index\n",
    "'''\n",
    "\n",
    "import pandas as pd\n",
    "import numpy as np\n",
    "\n",
    "\n",
    "data_text = pd.read_csv(\"abcnews-date-text.csv\")\n",
    "documents = data_text.drop(data_text.columns[0], axis = 1)\n",
    "documents[\"index\"] = range(0,  1103665)\n",
    "documents.head()"
   ]
  },
  {
   "cell_type": "markdown",
   "metadata": {},
   "source": [
    "Let's glance at the dataset:"
   ]
  },
  {
   "cell_type": "code",
   "execution_count": 2,
   "metadata": {},
   "outputs": [
    {
     "data": {
      "text/plain": [
       "headline_text    1103665\n",
       "index            1103665\n",
       "dtype: int64"
      ]
     },
     "execution_count": 2,
     "metadata": {},
     "output_type": "execute_result"
    }
   ],
   "source": [
    "'''\n",
    "print the total number of documents\n",
    "'''\n",
    "documents.count()"
   ]
  },
  {
   "cell_type": "code",
   "execution_count": 3,
   "metadata": {},
   "outputs": [
    {
     "data": {
      "text/html": [
       "<div>\n",
       "<style scoped>\n",
       "    .dataframe tbody tr th:only-of-type {\n",
       "        vertical-align: middle;\n",
       "    }\n",
       "\n",
       "    .dataframe tbody tr th {\n",
       "        vertical-align: top;\n",
       "    }\n",
       "\n",
       "    .dataframe thead th {\n",
       "        text-align: right;\n",
       "    }\n",
       "</style>\n",
       "<table border=\"1\" class=\"dataframe\">\n",
       "  <thead>\n",
       "    <tr style=\"text-align: right;\">\n",
       "      <th></th>\n",
       "      <th>headline_text</th>\n",
       "      <th>index</th>\n",
       "    </tr>\n",
       "  </thead>\n",
       "  <tbody>\n",
       "    <tr>\n",
       "      <th>0</th>\n",
       "      <td>aba decides against community broadcasting lic...</td>\n",
       "      <td>0</td>\n",
       "    </tr>\n",
       "    <tr>\n",
       "      <th>1</th>\n",
       "      <td>act fire witnesses must be aware of defamation</td>\n",
       "      <td>1</td>\n",
       "    </tr>\n",
       "    <tr>\n",
       "      <th>2</th>\n",
       "      <td>a g calls for infrastructure protection summit</td>\n",
       "      <td>2</td>\n",
       "    </tr>\n",
       "    <tr>\n",
       "      <th>3</th>\n",
       "      <td>air nz staff in aust strike for pay rise</td>\n",
       "      <td>3</td>\n",
       "    </tr>\n",
       "    <tr>\n",
       "      <th>4</th>\n",
       "      <td>air nz strike to affect australian travellers</td>\n",
       "      <td>4</td>\n",
       "    </tr>\n",
       "  </tbody>\n",
       "</table>\n",
       "</div>"
      ],
      "text/plain": [
       "                                       headline_text  index\n",
       "0  aba decides against community broadcasting lic...      0\n",
       "1     act fire witnesses must be aware of defamation      1\n",
       "2     a g calls for infrastructure protection summit      2\n",
       "3           air nz staff in aust strike for pay rise      3\n",
       "4      air nz strike to affect australian travellers      4"
      ]
     },
     "execution_count": 3,
     "metadata": {},
     "output_type": "execute_result"
    }
   ],
   "source": [
    "documents[:5]"
   ]
  },
  {
   "cell_type": "markdown",
   "metadata": {},
   "source": [
    "## Step 2: Data Preprocessing ##\n",
    "\n",
    "We will perform the following steps:\n",
    "\n",
    "* **Tokenization**: Split the text into sentences and the sentences into words. Lowercase the words and remove punctuation.\n",
    "* Words that have fewer than 3 characters are removed.\n",
    "* All **stopwords** are removed.\n",
    "* Words are **lemmatized** - words in third person are changed to first person and verbs in past and future tenses are changed into present.\n",
    "* Words are **stemmed** - words are reduced to their root form.\n",
    "\n",
    "This time, we'll make use of the gensim library and show you how  to preprocess text easily. "
   ]
  },
  {
   "cell_type": "code",
   "execution_count": 4,
   "metadata": {},
   "outputs": [],
   "source": [
    "'''\n",
    "Loading Gensim and nltk libraries\n",
    "'''\n",
    "# pip install gensim\n",
    "import gensim\n",
    "from gensim.utils import simple_preprocess\n",
    "from gensim.parsing.preprocessing import STOPWORDS\n",
    "from nltk.stem import WordNetLemmatizer, SnowballStemmer\n",
    "from nltk.stem.porter import *\n",
    "import numpy as np\n",
    "np.random.seed(400)"
   ]
  },
  {
   "cell_type": "code",
   "execution_count": 5,
   "metadata": {},
   "outputs": [
    {
     "name": "stderr",
     "output_type": "stream",
     "text": [
      "[nltk_data] Downloading package wordnet to\n",
      "[nltk_data]     C:\\Users\\Admin\\AppData\\Roaming\\nltk_data...\n",
      "[nltk_data]   Package wordnet is already up-to-date!\n"
     ]
    },
    {
     "data": {
      "text/plain": [
       "True"
      ]
     },
     "execution_count": 5,
     "metadata": {},
     "output_type": "execute_result"
    }
   ],
   "source": [
    "import nltk\n",
    "nltk.download('wordnet')"
   ]
  },
  {
   "cell_type": "markdown",
   "metadata": {},
   "source": [
    "### Lemmatizer Example\n",
    "Before preprocessing our dataset, let's first look at an lemmatizing example. What would be the output if we lemmatized the word 'went':"
   ]
  },
  {
   "cell_type": "code",
   "execution_count": 6,
   "metadata": {},
   "outputs": [
    {
     "name": "stdout",
     "output_type": "stream",
     "text": [
      "go\n"
     ]
    }
   ],
   "source": [
    "print(WordNetLemmatizer().lemmatize('went', pos = 'v')) # past tense to present tense"
   ]
  },
  {
   "cell_type": "markdown",
   "metadata": {},
   "source": [
    "### Stemmer Example\n",
    "Let's also look at a stemming example. Let's throw a number of words at the stemmer and see how it deals with each one:"
   ]
  },
  {
   "cell_type": "code",
   "execution_count": 7,
   "metadata": {},
   "outputs": [
    {
     "data": {
      "text/html": [
       "<div>\n",
       "<style scoped>\n",
       "    .dataframe tbody tr th:only-of-type {\n",
       "        vertical-align: middle;\n",
       "    }\n",
       "\n",
       "    .dataframe tbody tr th {\n",
       "        vertical-align: top;\n",
       "    }\n",
       "\n",
       "    .dataframe thead th {\n",
       "        text-align: right;\n",
       "    }\n",
       "</style>\n",
       "<table border=\"1\" class=\"dataframe\">\n",
       "  <thead>\n",
       "    <tr style=\"text-align: right;\">\n",
       "      <th></th>\n",
       "      <th>original word</th>\n",
       "      <th>stemmed</th>\n",
       "    </tr>\n",
       "  </thead>\n",
       "  <tbody>\n",
       "    <tr>\n",
       "      <th>0</th>\n",
       "      <td>caresses</td>\n",
       "      <td>caress</td>\n",
       "    </tr>\n",
       "    <tr>\n",
       "      <th>1</th>\n",
       "      <td>flies</td>\n",
       "      <td>fli</td>\n",
       "    </tr>\n",
       "    <tr>\n",
       "      <th>2</th>\n",
       "      <td>dies</td>\n",
       "      <td>die</td>\n",
       "    </tr>\n",
       "    <tr>\n",
       "      <th>3</th>\n",
       "      <td>mules</td>\n",
       "      <td>mule</td>\n",
       "    </tr>\n",
       "    <tr>\n",
       "      <th>4</th>\n",
       "      <td>denied</td>\n",
       "      <td>deni</td>\n",
       "    </tr>\n",
       "    <tr>\n",
       "      <th>5</th>\n",
       "      <td>died</td>\n",
       "      <td>die</td>\n",
       "    </tr>\n",
       "    <tr>\n",
       "      <th>6</th>\n",
       "      <td>agreed</td>\n",
       "      <td>agre</td>\n",
       "    </tr>\n",
       "    <tr>\n",
       "      <th>7</th>\n",
       "      <td>owned</td>\n",
       "      <td>own</td>\n",
       "    </tr>\n",
       "    <tr>\n",
       "      <th>8</th>\n",
       "      <td>humbled</td>\n",
       "      <td>humbl</td>\n",
       "    </tr>\n",
       "    <tr>\n",
       "      <th>9</th>\n",
       "      <td>sized</td>\n",
       "      <td>size</td>\n",
       "    </tr>\n",
       "    <tr>\n",
       "      <th>10</th>\n",
       "      <td>meeting</td>\n",
       "      <td>meet</td>\n",
       "    </tr>\n",
       "    <tr>\n",
       "      <th>11</th>\n",
       "      <td>stating</td>\n",
       "      <td>state</td>\n",
       "    </tr>\n",
       "    <tr>\n",
       "      <th>12</th>\n",
       "      <td>siezing</td>\n",
       "      <td>siez</td>\n",
       "    </tr>\n",
       "    <tr>\n",
       "      <th>13</th>\n",
       "      <td>itemization</td>\n",
       "      <td>item</td>\n",
       "    </tr>\n",
       "    <tr>\n",
       "      <th>14</th>\n",
       "      <td>sensational</td>\n",
       "      <td>sensat</td>\n",
       "    </tr>\n",
       "    <tr>\n",
       "      <th>15</th>\n",
       "      <td>traditional</td>\n",
       "      <td>tradit</td>\n",
       "    </tr>\n",
       "    <tr>\n",
       "      <th>16</th>\n",
       "      <td>reference</td>\n",
       "      <td>refer</td>\n",
       "    </tr>\n",
       "    <tr>\n",
       "      <th>17</th>\n",
       "      <td>colonizer</td>\n",
       "      <td>colon</td>\n",
       "    </tr>\n",
       "    <tr>\n",
       "      <th>18</th>\n",
       "      <td>plotted</td>\n",
       "      <td>plot</td>\n",
       "    </tr>\n",
       "  </tbody>\n",
       "</table>\n",
       "</div>"
      ],
      "text/plain": [
       "   original word stemmed\n",
       "0       caresses  caress\n",
       "1          flies     fli\n",
       "2           dies     die\n",
       "3          mules    mule\n",
       "4         denied    deni\n",
       "5           died     die\n",
       "6         agreed    agre\n",
       "7          owned     own\n",
       "8        humbled   humbl\n",
       "9          sized    size\n",
       "10       meeting    meet\n",
       "11       stating   state\n",
       "12       siezing    siez\n",
       "13   itemization    item\n",
       "14   sensational  sensat\n",
       "15   traditional  tradit\n",
       "16     reference   refer\n",
       "17     colonizer   colon\n",
       "18       plotted    plot"
      ]
     },
     "execution_count": 7,
     "metadata": {},
     "output_type": "execute_result"
    }
   ],
   "source": [
    "stemmer = SnowballStemmer(\"english\")\n",
    "original_words = ['caresses', 'flies', 'dies', 'mules', 'denied','died', 'agreed', 'owned', \n",
    "           'humbled', 'sized','meeting', 'stating', 'siezing', 'itemization','sensational', \n",
    "           'traditional', 'reference', 'colonizer','plotted']\n",
    "singles = [stemmer.stem(plural) for plural in original_words]\n",
    "\n",
    "pd.DataFrame(data={'original word':original_words, 'stemmed':singles })"
   ]
  },
  {
   "cell_type": "code",
   "execution_count": 8,
   "metadata": {},
   "outputs": [],
   "source": [
    "'''\n",
    "Write a function to perform the pre processing steps on the entire dataset\n",
    "'''\n",
    "def lemmatize_stemming(text):\n",
    "    '''\n",
    "        1) Lemmatize the text\n",
    "        2) Then, stem the text\n",
    "        3) return final text\n",
    "    '''\n",
    "    lemmas = WordNetLemmatizer().lemmatize(text)\n",
    "    stemmer = SnowballStemmer(\"english\")\n",
    "    stemmed = stemmer.stem(lemmas)\n",
    "          \n",
    "    return stemmed\n",
    "\n",
    "\n",
    "\n",
    "# Tokenize and lemmatize. Look up how preprocessing is being done\n",
    "def preprocess(text):\n",
    "    result=[]\n",
    "    for token in gensim.utils.simple_preprocess(text) :\n",
    "        if token not in gensim.parsing.preprocessing.STOPWORDS and len(token) > 3:\n",
    "            \n",
    "            # TODO: Apply lemmatize_stemming on the token, then add to the results list\n",
    "            result.append(lemmatize_stemming(token))\n",
    "        \n",
    "        \n",
    "    return result"
   ]
  },
  {
   "cell_type": "code",
   "execution_count": 9,
   "metadata": {},
   "outputs": [
    {
     "name": "stdout",
     "output_type": "stream",
     "text": [
      "Original document: \n",
      "['rain', 'helps', 'dampen', 'bushfires']\n",
      "\n",
      "\n",
      "Tokenized and lemmatized document: \n",
      "['rain', 'help', 'dampen', 'bushfir']\n"
     ]
    }
   ],
   "source": [
    "'''\n",
    "Preview a document after preprocessing\n",
    "'''\n",
    "document_num = 4310\n",
    "doc_sample = documents[documents['index'] == document_num].values[0][0]\n",
    "\n",
    "print(\"Original document: \")\n",
    "words = []\n",
    "for word in doc_sample.split(' '):\n",
    "    words.append(word)\n",
    "print(words)\n",
    "print(\"\\n\\nTokenized and lemmatized document: \")\n",
    "print(preprocess(doc_sample))"
   ]
  },
  {
   "cell_type": "markdown",
   "metadata": {},
   "source": [
    "Let's now preprocess all the news headlines we have. To do that, let's use the [map](https://pandas.pydata.org/pandas-docs/stable/generated/pandas.Series.map.html) function from pandas to apply `preprocess()` to the `headline_text` column\n",
    "\n",
    "**Note**: This may take a few minutes"
   ]
  },
  {
   "cell_type": "code",
   "execution_count": 10,
   "metadata": {},
   "outputs": [],
   "source": [
    "# TODO: preprocess all the headlines, saving the list of results as 'processed_docs'\n",
    "processed_docs = []\n",
    "processed_docs = list(map(preprocess, documents['headline_text']))"
   ]
  },
  {
   "cell_type": "code",
   "execution_count": 11,
   "metadata": {},
   "outputs": [
    {
     "data": {
      "text/plain": [
       "[['decid', 'communiti', 'broadcast', 'licenc'],\n",
       " ['wit', 'awar', 'defam'],\n",
       " ['call', 'infrastructur', 'protect', 'summit'],\n",
       " ['staff', 'aust', 'strike', 'rise'],\n",
       " ['strike', 'affect', 'australian', 'travel'],\n",
       " ['ambiti', 'olsson', 'win', 'tripl', 'jump'],\n",
       " ['antic', 'delight', 'record', 'break', 'barca'],\n",
       " ['aussi', 'qualifi', 'stosur', 'wast', 'memphi', 'match'],\n",
       " ['aust', 'address', 'secur', 'council', 'iraq'],\n",
       " ['australia', 'lock', 'timet']]"
      ]
     },
     "execution_count": 11,
     "metadata": {},
     "output_type": "execute_result"
    }
   ],
   "source": [
    "'''\n",
    "Preview 'processed_docs'\n",
    "'''\n",
    "processed_docs[:10]"
   ]
  },
  {
   "cell_type": "markdown",
   "metadata": {},
   "source": [
    "## Step 3.1: Bag of words on the dataset\n",
    "\n",
    "Now let's create a dictionary from 'processed_docs' containing the number of times a word appears in the training set. To do that, let's pass `processed_docs` to [`gensim.corpora.Dictionary()`](https://radimrehurek.com/gensim/corpora/dictionary.html) and call it '`dictionary`'."
   ]
  },
  {
   "cell_type": "code",
   "execution_count": 12,
   "metadata": {},
   "outputs": [],
   "source": [
    "'''\n",
    "Create a dictionary from 'processed_docs' containing the number of times a word appears \n",
    "in the training set using gensim.corpora.Dictionary and call it 'dictionary'\n",
    "'''\n",
    "#  Todo\n",
    "dictionary = gensim.corpora.Dictionary(processed_docs)"
   ]
  },
  {
   "cell_type": "code",
   "execution_count": 13,
   "metadata": {},
   "outputs": [
    {
     "name": "stdout",
     "output_type": "stream",
     "text": [
      "0 broadcast\n",
      "1 communiti\n",
      "2 decid\n",
      "3 licenc\n",
      "4 awar\n",
      "5 defam\n",
      "6 wit\n",
      "7 call\n",
      "8 infrastructur\n",
      "9 protect\n",
      "10 summit\n"
     ]
    }
   ],
   "source": [
    "'''\n",
    "Checking dictionary created\n",
    "'''\n",
    "count = 0\n",
    "for k, v in dictionary.iteritems():\n",
    "    print(k, v)\n",
    "    count += 1\n",
    "    if count > 10:\n",
    "        break"
   ]
  },
  {
   "cell_type": "markdown",
   "metadata": {},
   "source": [
    "** Gensim filter_extremes **\n",
    "\n",
    "[`filter_extremes(no_below=5, no_above=0.5, keep_n=100000)`](https://radimrehurek.com/gensim/corpora/dictionary.html#gensim.corpora.dictionary.Dictionary.filter_extremes)\n",
    "\n",
    "Filter out tokens that appear in\n",
    "\n",
    "* less than no_below documents (absolute number) or\n",
    "* more than no_above documents (fraction of total corpus size, not absolute number).\n",
    "* after (1) and (2), keep only the first keep_n most frequent tokens (or keep all if None)."
   ]
  },
  {
   "cell_type": "code",
   "execution_count": 14,
   "metadata": {},
   "outputs": [],
   "source": [
    "'''\n",
    "Remove very rare and very common words:\n",
    "\n",
    "- words appearing less than 15 times\n",
    "- words appearing in more than 10% of all documents\n",
    "- keep 100000 most frequent tokens\n",
    "'''\n",
    "# TODO: apply dictionary.filter_extremes() with the parameters mentioned above\n",
    "dictionary.filter_extremes(no_below=15, no_above=0.1, keep_n=100000)"
   ]
  },
  {
   "cell_type": "markdown",
   "metadata": {},
   "source": [
    "** Gensim doc2bow **\n",
    "\n",
    "[`doc2bow(document)`](https://radimrehurek.com/gensim/corpora/dictionary.html#gensim.corpora.dictionary.Dictionary.doc2bow)\n",
    "\n",
    "* Convert document (a list of words) into the bag-of-words format = list of (token_id, token_count) 2-tuples. Each word is assumed to be a tokenized and normalized string (either unicode or utf8-encoded). No further preprocessing is done on the words in document; apply tokenization, stemming etc. before calling this method."
   ]
  },
  {
   "cell_type": "code",
   "execution_count": 15,
   "metadata": {},
   "outputs": [],
   "source": [
    "'''\n",
    "Create the Bag-of-words model for each document i.e for each document we create a dictionary reporting how many\n",
    "words and how many times those words appear. Save this to 'bow_corpus'.\n",
    "Hint: Since we want a BoW model for each document, you can use list comprehension instead of for loops. List\n",
    "comprehension is the more pythonic way.\n",
    "'''\n",
    "#  Todo:\n",
    "bow_corpus = [dictionary.doc2bow(doc) for doc in processed_docs]"
   ]
  },
  {
   "cell_type": "code",
   "execution_count": 16,
   "metadata": {},
   "outputs": [
    {
     "data": {
      "text/plain": [
       "[(76, 1), (112, 1), (486, 1), (4041, 1)]"
      ]
     },
     "execution_count": 16,
     "metadata": {},
     "output_type": "execute_result"
    }
   ],
   "source": [
    "'''\n",
    "Checking Bag of Words corpus for our sample document --> (token_id, token_count)\n",
    "'''\n",
    "bow_corpus[document_num]"
   ]
  },
  {
   "cell_type": "code",
   "execution_count": 17,
   "metadata": {},
   "outputs": [
    {
     "name": "stdout",
     "output_type": "stream",
     "text": [
      "Word 76 (\"bushfir\") appears 1 time.\n",
      "Word 112 (\"help\") appears 1 time.\n",
      "Word 486 (\"rain\") appears 1 time.\n",
      "Word 4041 (\"dampen\") appears 1 time.\n"
     ]
    }
   ],
   "source": [
    "'''\n",
    "Preview BOW for our sample preprocessed document\n",
    "'''\n",
    "# Here document_num is document number 4310 which we have checked in Step 2\n",
    "bow_doc_4310 = bow_corpus[document_num]\n",
    "\n",
    "for i in range(len(bow_doc_4310)):\n",
    "    print(\"Word {} (\\\"{}\\\") appears {} time.\".format(bow_doc_4310[i][0], \n",
    "                                                     dictionary[bow_doc_4310[i][0]], \n",
    "                                                     bow_doc_4310[i][1]))"
   ]
  },
  {
   "cell_type": "markdown",
   "metadata": {},
   "source": [
    "## Step 3.2: TF-IDF on our document set ##\n",
    "\n",
    "While performing TF-IDF on the corpus is not necessary for LDA implemention using the gensim model, it is recemmended. TF-IDF expects a bag-of-words (integer values) training corpus during initialization. During transformation, it will take a vector and return another vector of the same dimensionality.\n",
    "\n",
    "*Please note: The author of Gensim dictates the standard procedure for LDA to be using the Bag of Words model.*"
   ]
  },
  {
   "cell_type": "markdown",
   "metadata": {},
   "source": [
    "** TF-IDF stands for \"Term Frequency, Inverse Document Frequency\".**\n",
    "\n",
    "* It is a way to score the importance of words (or \"terms\") in a document based on how frequently they appear across multiple documents.\n",
    "* If a word appears frequently in a document, it's important. Give the word a high score. But if a word appears in many documents, it's not a unique identifier. Give the word a low score.\n",
    "* Therefore, common words like \"the\" and \"for\", which appear in many documents, will be scaled down. Words that appear frequently in a single document will be scaled up.\n",
    "\n",
    "In other words:\n",
    "\n",
    "* TF(w) = `(Number of times term w appears in a document) / (Total number of terms in the document)`.\n",
    "* IDF(w) = `log_e(Total number of documents / Number of documents with term w in it)`.\n",
    "\n",
    "** For example **\n",
    "\n",
    "* Consider a document containing `100` words wherein the word 'tiger' appears 3 times. \n",
    "* The term frequency (i.e., tf) for 'tiger' is then: \n",
    "    - `TF = (3 / 100) = 0.03`. \n",
    "\n",
    "* Now, assume we have `10 million` documents and the word 'tiger' appears in `1000` of these. Then, the inverse document frequency (i.e., idf) is calculated as:\n",
    "    - `IDF = log(10,000,000 / 1,000) = 4`. \n",
    "\n",
    "* Thus, the Tf-idf weight is the product of these quantities: \n",
    "    - `TF-IDF = 0.03 * 4 = 0.12`."
   ]
  },
  {
   "cell_type": "code",
   "execution_count": 18,
   "metadata": {},
   "outputs": [],
   "source": [
    "'''\n",
    "Create tf-idf model object using models.TfidfModel on 'bow_corpus' and save it to 'tfidf'\n",
    "'''\n",
    "from gensim import corpora, models\n",
    "# TODO\n",
    "tfidf = models.TfidfModel(bow_corpus)\n"
   ]
  },
  {
   "cell_type": "code",
   "execution_count": 19,
   "metadata": {},
   "outputs": [],
   "source": [
    "'''\n",
    "Apply transformation to the entire corpus and call it 'corpus_tfidf'\n",
    "'''\n",
    "# TODO\n",
    "corpus_tfidf = tfidf[bow_corpus]"
   ]
  },
  {
   "cell_type": "code",
   "execution_count": 20,
   "metadata": {},
   "outputs": [
    {
     "name": "stdout",
     "output_type": "stream",
     "text": [
      "[(0, 0.589272278034924),\n",
      " (1, 0.3892842954875021),\n",
      " (2, 0.49648286011932197),\n",
      " (3, 0.5046986122767408)]\n"
     ]
    }
   ],
   "source": [
    "'''\n",
    "Preview TF-IDF scores for our first document --> --> (token_id, tfidf score)\n",
    "'''\n",
    "from pprint import pprint\n",
    "for doc in corpus_tfidf:\n",
    "    pprint(doc)\n",
    "    break"
   ]
  },
  {
   "cell_type": "markdown",
   "metadata": {},
   "source": [
    "## Step 4.1: Running LDA using Bag of Words ##\n",
    "\n",
    "We are going for 10 topics in the document corpus.\n",
    "\n",
    "** We will be running LDA using all CPU cores to parallelize and speed up model training.**\n",
    "\n",
    "Some of the parameters we will be tweaking are:\n",
    "\n",
    "* **num_topics** is the number of requested latent topics to be extracted from the training corpus.\n",
    "* **id2word** is a mapping from word ids (integers) to words (strings). It is used to determine the vocabulary size, as well as for debugging and topic printing.\n",
    "* **workers** is the number of extra processes to use for parallelization. Uses all available cores by default.\n",
    "* **alpha** and **eta** are hyperparameters that affect sparsity of the document-topic (theta) and topic-word (lambda) distributions. We will let these be the default values for now(default value is `1/num_topics`)\n",
    "    - Alpha is the per document topic distribution.\n",
    "        * High alpha: Every document has a mixture of all topics(documents appear similar to each other).\n",
    "        * Low alpha: Every document has a mixture of very few topics\n",
    "\n",
    "    - Eta is the per topic word distribution.\n",
    "        * High eta: Each topic has a mixture of most words(topics appear similar to each other).\n",
    "        * Low eta: Each topic has a mixture of few words.\n",
    "\n",
    "* ** passes ** is the number of training passes through the corpus. For  example, if the training corpus has 50,000 documents, chunksize is  10,000, passes is 2, then online training is done in 10 updates: \n",
    "    * `#1 documents 0-9,999 `\n",
    "    * `#2 documents 10,000-19,999 `\n",
    "    * `#3 documents 20,000-29,999 `\n",
    "    * `#4 documents 30,000-39,999 `\n",
    "    * `#5 documents 40,000-49,999 `\n",
    "    * `#6 documents 0-9,999 `\n",
    "    * `#7 documents 10,000-19,999 `\n",
    "    * `#8 documents 20,000-29,999 `\n",
    "    * `#9 documents 30,000-39,999 `\n",
    "    * `#10 documents 40,000-49,999` "
   ]
  },
  {
   "cell_type": "code",
   "execution_count": 21,
   "metadata": {},
   "outputs": [],
   "source": [
    "# LDA multicore \n",
    "'''\n",
    "Train your lda model using gensim.models.LdaMulticore and save it to 'lda_model'\n",
    "\n",
    "If Multicore is throwing errors on you laptop, use LDA mono-core, gensim.models.LdaModel\n",
    "'''\n",
    "# TODO\n",
    "lda_model = gensim.models.LdaMulticore(bow_corpus, num_topics=10, id2word=dictionary, passes=2, workers=2)"
   ]
  },
  {
   "cell_type": "code",
   "execution_count": 22,
   "metadata": {},
   "outputs": [
    {
     "name": "stdout",
     "output_type": "stream",
     "text": [
      "Topic: 0 \n",
      "Words: 0.020*\"adelaid\" + 0.017*\"win\" + 0.015*\"claim\" + 0.013*\"help\" + 0.012*\"budget\" + 0.012*\"lead\" + 0.011*\"australia\" + 0.011*\"street\" + 0.010*\"young\" + 0.010*\"race\"\n",
      "\n",
      "\n",
      "Topic: 1 \n",
      "Words: 0.023*\"warn\" + 0.023*\"queensland\" + 0.017*\"power\" + 0.016*\"time\" + 0.014*\"victoria\" + 0.014*\"flood\" + 0.012*\"water\" + 0.011*\"drum\" + 0.009*\"western\" + 0.009*\"food\"\n",
      "\n",
      "\n",
      "Topic: 2 \n",
      "Words: 0.024*\"plan\" + 0.019*\"market\" + 0.013*\"price\" + 0.013*\"share\" + 0.013*\"council\" + 0.012*\"concern\" + 0.012*\"busi\" + 0.010*\"farm\" + 0.010*\"royal\" + 0.010*\"green\"\n",
      "\n",
      "\n",
      "Topic: 3 \n",
      "Words: 0.036*\"year\" + 0.022*\"canberra\" + 0.017*\"donald\" + 0.016*\"live\" + 0.015*\"high\" + 0.013*\"communiti\" + 0.012*\"nation\" + 0.011*\"victorian\" + 0.010*\"take\" + 0.010*\"beat\"\n",
      "\n",
      "\n",
      "Topic: 4 \n",
      "Words: 0.027*\"south\" + 0.025*\"north\" + 0.023*\"coast\" + 0.017*\"home\" + 0.017*\"west\" + 0.016*\"turnbul\" + 0.015*\"island\" + 0.015*\"gold\" + 0.013*\"citi\" + 0.012*\"forc\"\n",
      "\n",
      "\n",
      "Topic: 5 \n",
      "Words: 0.027*\"govern\" + 0.017*\"say\" + 0.014*\"health\" + 0.014*\"fund\" + 0.014*\"rural\" + 0.012*\"state\" + 0.012*\"indigen\" + 0.011*\"servic\" + 0.010*\"school\" + 0.010*\"feder\"\n",
      "\n",
      "\n",
      "Topic: 6 \n",
      "Words: 0.025*\"australia\" + 0.021*\"elect\" + 0.018*\"countri\" + 0.015*\"tasmanian\" + 0.014*\"arrest\" + 0.012*\"rate\" + 0.012*\"protest\" + 0.012*\"australian\" + 0.011*\"polit\" + 0.010*\"say\"\n",
      "\n",
      "\n",
      "Topic: 7 \n",
      "Words: 0.038*\"trump\" + 0.034*\"sydney\" + 0.027*\"woman\" + 0.022*\"perth\" + 0.019*\"world\" + 0.019*\"brisban\" + 0.018*\"miss\" + 0.017*\"open\" + 0.017*\"attack\" + 0.015*\"record\"\n",
      "\n",
      "\n",
      "Topic: 8 \n",
      "Words: 0.031*\"polic\" + 0.028*\"charg\" + 0.026*\"court\" + 0.021*\"child\" + 0.020*\"murder\" + 0.019*\"death\" + 0.017*\"crash\" + 0.016*\"kill\" + 0.015*\"alleg\" + 0.014*\"interview\"\n",
      "\n",
      "\n",
      "Topic: 9 \n",
      "Words: 0.028*\"report\" + 0.023*\"test\" + 0.018*\"hour\" + 0.018*\"chang\" + 0.015*\"australia\" + 0.014*\"china\" + 0.013*\"guilti\" + 0.013*\"vote\" + 0.012*\"prison\" + 0.012*\"releas\"\n",
      "\n",
      "\n"
     ]
    }
   ],
   "source": [
    "'''\n",
    "For each topic, we will explore the words occuring in that topic and its relative weight\n",
    "'''\n",
    "for idx, topic in lda_model.print_topics(-1):\n",
    "    print(\"Topic: {} \\nWords: {}\".format(idx, topic))\n",
    "    print(\"\\n\")"
   ]
  },
  {
   "cell_type": "markdown",
   "metadata": {},
   "source": [
    "### Classification of the topics ###\n",
    "\n",
    "Using the words in each topic and their corresponding weights, what categories were you able to infer?\n",
    "\n",
    "* 0: \n",
    "* 1: \n",
    "* 2: \n",
    "* 3: \n",
    "* 4: \n",
    "* 5: \n",
    "* 6: \n",
    "* 7:  \n",
    "* 8: \n",
    "* 9: "
   ]
  },
  {
   "cell_type": "markdown",
   "metadata": {},
   "source": [
    "## Step 4.2 Running LDA using TF-IDF ##"
   ]
  },
  {
   "cell_type": "code",
   "execution_count": 23,
   "metadata": {},
   "outputs": [],
   "source": [
    "'''\n",
    "Define lda model using corpus_tfidf\n",
    "'''\n",
    "# TODO\n",
    "lda_model_tfidf = gensim.models.LdaMulticore(corpus_tfidf, num_topics=10, id2word=dictionary, passes=2, workers=2)"
   ]
  },
  {
   "cell_type": "code",
   "execution_count": 24,
   "metadata": {},
   "outputs": [
    {
     "name": "stdout",
     "output_type": "stream",
     "text": [
      "Topic: 0 Word: 0.015*\"elect\" + 0.009*\"rate\" + 0.008*\"labor\" + 0.008*\"dollar\" + 0.007*\"liber\" + 0.006*\"price\" + 0.006*\"farm\" + 0.006*\"say\" + 0.006*\"vote\" + 0.006*\"abbott\"\n",
      "\n",
      "\n",
      "Topic: 1 Word: 0.014*\"news\" + 0.012*\"market\" + 0.010*\"share\" + 0.009*\"mother\" + 0.008*\"season\" + 0.008*\"tasmania\" + 0.007*\"march\" + 0.007*\"quiz\" + 0.007*\"monday\" + 0.006*\"univers\"\n",
      "\n",
      "\n",
      "Topic: 2 Word: 0.017*\"donald\" + 0.012*\"crash\" + 0.011*\"victorian\" + 0.011*\"victoria\" + 0.008*\"road\" + 0.008*\"sport\" + 0.007*\"septemb\" + 0.007*\"john\" + 0.007*\"truck\" + 0.007*\"driver\"\n",
      "\n",
      "\n",
      "Topic: 3 Word: 0.028*\"queensland\" + 0.023*\"countri\" + 0.020*\"hour\" + 0.017*\"live\" + 0.010*\"podcast\" + 0.010*\"korea\" + 0.009*\"north\" + 0.007*\"syria\" + 0.007*\"prison\" + 0.007*\"wednesday\"\n",
      "\n",
      "\n",
      "Topic: 4 Word: 0.017*\"charg\" + 0.017*\"murder\" + 0.012*\"polic\" + 0.012*\"court\" + 0.012*\"alleg\" + 0.012*\"interview\" + 0.012*\"peopl\" + 0.011*\"drum\" + 0.010*\"woman\" + 0.010*\"death\"\n",
      "\n",
      "\n",
      "Topic: 5 Word: 0.013*\"coast\" + 0.008*\"western\" + 0.008*\"west\" + 0.008*\"gold\" + 0.008*\"flood\" + 0.007*\"south\" + 0.007*\"storm\" + 0.007*\"northern\" + 0.007*\"damag\" + 0.006*\"central\"\n",
      "\n",
      "\n",
      "Topic: 6 Word: 0.014*\"rural\" + 0.012*\"govern\" + 0.009*\"health\" + 0.007*\"program\" + 0.007*\"indigen\" + 0.006*\"fund\" + 0.006*\"servic\" + 0.006*\"david\" + 0.006*\"nation\" + 0.006*\"stori\"\n",
      "\n",
      "\n",
      "Topic: 7 Word: 0.011*\"kill\" + 0.011*\"shoot\" + 0.010*\"dead\" + 0.007*\"injur\" + 0.007*\"plead\" + 0.007*\"attack\" + 0.007*\"celebr\" + 0.006*\"polic\" + 0.006*\"guilti\" + 0.006*\"shark\"\n",
      "\n",
      "\n",
      "Topic: 8 Word: 0.030*\"trump\" + 0.010*\"australia\" + 0.010*\"final\" + 0.010*\"world\" + 0.009*\"leagu\" + 0.008*\"street\" + 0.007*\"australian\" + 0.007*\"wall\" + 0.007*\"open\" + 0.006*\"michael\"\n",
      "\n",
      "\n",
      "Topic: 9 Word: 0.015*\"turnbul\" + 0.011*\"royal\" + 0.011*\"marriag\" + 0.009*\"malcolm\" + 0.009*\"commiss\" + 0.009*\"weather\" + 0.009*\"hill\" + 0.008*\"hobart\" + 0.008*\"rugbi\" + 0.007*\"climat\"\n",
      "\n",
      "\n"
     ]
    }
   ],
   "source": [
    "'''\n",
    "For each topic, we will explore the words occuring in that topic and its relative weight\n",
    "'''\n",
    "for idx, topic in lda_model_tfidf.print_topics(-1):\n",
    "    print(\"Topic: {} Word: {}\".format(idx, topic))\n",
    "    print(\"\\n\")"
   ]
  },
  {
   "cell_type": "markdown",
   "metadata": {},
   "source": [
    "### Classification of the topics ###\n",
    "\n",
    "As we can see, when using tf-idf, heavier weights are given to words that are not as frequent which results in nouns being factored in. That makes it harder to figure out the categories as nouns can be hard to categorize. This goes to show that the models we apply depend on the type of corpus of text we are dealing with. \n",
    "\n",
    "Using the words in each topic and their corresponding weights, what categories could you find?\n",
    "\n",
    "* 0: \n",
    "* 1:  \n",
    "* 2: \n",
    "* 3: \n",
    "* 4:  \n",
    "* 5: \n",
    "* 6: \n",
    "* 7: \n",
    "* 8: \n",
    "* 9: "
   ]
  },
  {
   "cell_type": "markdown",
   "metadata": {},
   "source": [
    "## Step 5.1: Performance evaluation by classifying sample document using LDA Bag of Words model\n",
    "\n",
    "We will check to see where our test document would be classified. "
   ]
  },
  {
   "cell_type": "code",
   "execution_count": 25,
   "metadata": {},
   "outputs": [
    {
     "data": {
      "text/plain": [
       "['rain', 'help', 'dampen', 'bushfir']"
      ]
     },
     "execution_count": 25,
     "metadata": {},
     "output_type": "execute_result"
    }
   ],
   "source": [
    "'''\n",
    "Text of sample document 4310\n",
    "'''\n",
    "processed_docs[4310]"
   ]
  },
  {
   "cell_type": "code",
   "execution_count": 29,
   "metadata": {},
   "outputs": [
    {
     "name": "stdout",
     "output_type": "stream",
     "text": [
      "\n",
      "Score: 0.4198336899280548\t \n",
      "Topic: 0.020*\"adelaid\" + 0.017*\"win\" + 0.015*\"claim\" + 0.013*\"help\" + 0.012*\"budget\" + 0.012*\"lead\" + 0.011*\"australia\" + 0.011*\"street\" + 0.010*\"young\" + 0.010*\"race\"\n",
      "\n",
      "Score: 0.22005946934223175\t \n",
      "Topic: 0.036*\"year\" + 0.022*\"canberra\" + 0.017*\"donald\" + 0.016*\"live\" + 0.015*\"high\" + 0.013*\"communiti\" + 0.012*\"nation\" + 0.011*\"victorian\" + 0.010*\"take\" + 0.010*\"beat\"\n",
      "\n",
      "Score: 0.2200482338666916\t \n",
      "Topic: 0.023*\"warn\" + 0.023*\"queensland\" + 0.017*\"power\" + 0.016*\"time\" + 0.014*\"victoria\" + 0.014*\"flood\" + 0.012*\"water\" + 0.011*\"drum\" + 0.009*\"western\" + 0.009*\"food\"\n",
      "\n",
      "Score: 0.020011067390441895\t \n",
      "Topic: 0.027*\"south\" + 0.025*\"north\" + 0.023*\"coast\" + 0.017*\"home\" + 0.017*\"west\" + 0.016*\"turnbul\" + 0.015*\"island\" + 0.015*\"gold\" + 0.013*\"citi\" + 0.012*\"forc\"\n",
      "\n",
      "Score: 0.020009297877550125\t \n",
      "Topic: 0.027*\"govern\" + 0.017*\"say\" + 0.014*\"health\" + 0.014*\"fund\" + 0.014*\"rural\" + 0.012*\"state\" + 0.012*\"indigen\" + 0.011*\"servic\" + 0.010*\"school\" + 0.010*\"feder\"\n",
      "\n",
      "Score: 0.020007647573947906\t \n",
      "Topic: 0.024*\"plan\" + 0.019*\"market\" + 0.013*\"price\" + 0.013*\"share\" + 0.013*\"council\" + 0.012*\"concern\" + 0.012*\"busi\" + 0.010*\"farm\" + 0.010*\"royal\" + 0.010*\"green\"\n",
      "\n",
      "Score: 0.020007647573947906\t \n",
      "Topic: 0.025*\"australia\" + 0.021*\"elect\" + 0.018*\"countri\" + 0.015*\"tasmanian\" + 0.014*\"arrest\" + 0.012*\"rate\" + 0.012*\"protest\" + 0.012*\"australian\" + 0.011*\"polit\" + 0.010*\"say\"\n",
      "\n",
      "Score: 0.020007647573947906\t \n",
      "Topic: 0.038*\"trump\" + 0.034*\"sydney\" + 0.027*\"woman\" + 0.022*\"perth\" + 0.019*\"world\" + 0.019*\"brisban\" + 0.018*\"miss\" + 0.017*\"open\" + 0.017*\"attack\" + 0.015*\"record\"\n",
      "\n",
      "Score: 0.020007647573947906\t \n",
      "Topic: 0.031*\"polic\" + 0.028*\"charg\" + 0.026*\"court\" + 0.021*\"child\" + 0.020*\"murder\" + 0.019*\"death\" + 0.017*\"crash\" + 0.016*\"kill\" + 0.015*\"alleg\" + 0.014*\"interview\"\n",
      "\n",
      "Score: 0.020007647573947906\t \n",
      "Topic: 0.028*\"report\" + 0.023*\"test\" + 0.018*\"hour\" + 0.018*\"chang\" + 0.015*\"australia\" + 0.014*\"china\" + 0.013*\"guilti\" + 0.013*\"vote\" + 0.012*\"prison\" + 0.012*\"releas\"\n"
     ]
    }
   ],
   "source": [
    "'''\n",
    "Check which topic our test document belongs to using the LDA Bag of Words model.\n",
    "'''\n",
    "\n",
    "# Our test document is document number 4310\n",
    "for index, score in sorted(lda_model[bow_corpus[4310]], key=lambda tup: -1*tup[1]):\n",
    "    print(\"\\nScore: {}\\t \\nTopic: {}\".format(score, lda_model.print_topic(index, 10)))"
   ]
  },
  {
   "cell_type": "markdown",
   "metadata": {},
   "source": [
    "## Step 5.2: Performance evaluation by classifying sample document using LDA TF-IDF model"
   ]
  },
  {
   "cell_type": "code",
   "execution_count": 30,
   "metadata": {},
   "outputs": [
    {
     "name": "stdout",
     "output_type": "stream",
     "text": [
      "\n",
      "Score: 0.6052217483520508\t \n",
      "Topic: 0.013*\"coast\" + 0.008*\"western\" + 0.008*\"west\" + 0.008*\"gold\" + 0.008*\"flood\" + 0.007*\"south\" + 0.007*\"storm\" + 0.007*\"northern\" + 0.007*\"damag\" + 0.006*\"central\"\n",
      "\n",
      "Score: 0.23467695713043213\t \n",
      "Topic: 0.014*\"news\" + 0.012*\"market\" + 0.010*\"share\" + 0.009*\"mother\" + 0.008*\"season\" + 0.008*\"tasmania\" + 0.007*\"march\" + 0.007*\"quiz\" + 0.007*\"monday\" + 0.006*\"univers\"\n",
      "\n",
      "Score: 0.0200140792876482\t \n",
      "Topic: 0.014*\"rural\" + 0.012*\"govern\" + 0.009*\"health\" + 0.007*\"program\" + 0.007*\"indigen\" + 0.006*\"fund\" + 0.006*\"servic\" + 0.006*\"david\" + 0.006*\"nation\" + 0.006*\"stori\"\n",
      "\n",
      "Score: 0.02001296915113926\t \n",
      "Topic: 0.015*\"elect\" + 0.009*\"rate\" + 0.008*\"labor\" + 0.008*\"dollar\" + 0.007*\"liber\" + 0.006*\"price\" + 0.006*\"farm\" + 0.006*\"say\" + 0.006*\"vote\" + 0.006*\"abbott\"\n",
      "\n",
      "Score: 0.020012855529785156\t \n",
      "Topic: 0.017*\"charg\" + 0.017*\"murder\" + 0.012*\"polic\" + 0.012*\"court\" + 0.012*\"alleg\" + 0.012*\"interview\" + 0.012*\"peopl\" + 0.011*\"drum\" + 0.010*\"woman\" + 0.010*\"death\"\n",
      "\n",
      "Score: 0.020012743771076202\t \n",
      "Topic: 0.011*\"kill\" + 0.011*\"shoot\" + 0.010*\"dead\" + 0.007*\"injur\" + 0.007*\"plead\" + 0.007*\"attack\" + 0.007*\"celebr\" + 0.006*\"polic\" + 0.006*\"guilti\" + 0.006*\"shark\"\n",
      "\n",
      "Score: 0.020012667402625084\t \n",
      "Topic: 0.028*\"queensland\" + 0.023*\"countri\" + 0.020*\"hour\" + 0.017*\"live\" + 0.010*\"podcast\" + 0.010*\"korea\" + 0.009*\"north\" + 0.007*\"syria\" + 0.007*\"prison\" + 0.007*\"wednesday\"\n",
      "\n",
      "Score: 0.020012585446238518\t \n",
      "Topic: 0.017*\"donald\" + 0.012*\"crash\" + 0.011*\"victorian\" + 0.011*\"victoria\" + 0.008*\"road\" + 0.008*\"sport\" + 0.007*\"septemb\" + 0.007*\"john\" + 0.007*\"truck\" + 0.007*\"driver\"\n",
      "\n",
      "Score: 0.02001175470650196\t \n",
      "Topic: 0.030*\"trump\" + 0.010*\"australia\" + 0.010*\"final\" + 0.010*\"world\" + 0.009*\"leagu\" + 0.008*\"street\" + 0.007*\"australian\" + 0.007*\"wall\" + 0.007*\"open\" + 0.006*\"michael\"\n",
      "\n",
      "Score: 0.020011700689792633\t \n",
      "Topic: 0.015*\"turnbul\" + 0.011*\"royal\" + 0.011*\"marriag\" + 0.009*\"malcolm\" + 0.009*\"commiss\" + 0.009*\"weather\" + 0.009*\"hill\" + 0.008*\"hobart\" + 0.008*\"rugbi\" + 0.007*\"climat\"\n"
     ]
    }
   ],
   "source": [
    "'''\n",
    "Check which topic our test document belongs to using the LDA TF-IDF model.\n",
    "Code would be similar to above\n",
    "'''\n",
    "# Todo\n",
    "for index, score in sorted(lda_model_tfidf[bow_corpus[4310]], key=lambda tup: -1*tup[1]):\n",
    "    print(\"\\nScore: {}\\t \\nTopic: {}\".format(score, lda_model_tfidf.print_topic(index, 10)))"
   ]
  },
  {
   "cell_type": "markdown",
   "metadata": {},
   "source": [
    "## Step 6: Testing model on unseen document ##"
   ]
  },
  {
   "cell_type": "code",
   "execution_count": 31,
   "metadata": {},
   "outputs": [
    {
     "name": "stdout",
     "output_type": "stream",
     "text": [
      "Score: 0.4200669825077057\t Topic: 0.036*\"year\" + 0.022*\"canberra\" + 0.017*\"donald\" + 0.016*\"live\" + 0.015*\"high\"\n",
      "Score: 0.22001497447490692\t Topic: 0.023*\"warn\" + 0.023*\"queensland\" + 0.017*\"power\" + 0.016*\"time\" + 0.014*\"victoria\"\n",
      "Score: 0.21988409757614136\t Topic: 0.027*\"govern\" + 0.017*\"say\" + 0.014*\"health\" + 0.014*\"fund\" + 0.014*\"rural\"\n",
      "Score: 0.02000485360622406\t Topic: 0.020*\"adelaid\" + 0.017*\"win\" + 0.015*\"claim\" + 0.013*\"help\" + 0.012*\"budget\"\n",
      "Score: 0.02000485360622406\t Topic: 0.024*\"plan\" + 0.019*\"market\" + 0.013*\"price\" + 0.013*\"share\" + 0.013*\"council\"\n",
      "Score: 0.02000485360622406\t Topic: 0.027*\"south\" + 0.025*\"north\" + 0.023*\"coast\" + 0.017*\"home\" + 0.017*\"west\"\n",
      "Score: 0.02000485360622406\t Topic: 0.025*\"australia\" + 0.021*\"elect\" + 0.018*\"countri\" + 0.015*\"tasmanian\" + 0.014*\"arrest\"\n",
      "Score: 0.02000485360622406\t Topic: 0.038*\"trump\" + 0.034*\"sydney\" + 0.027*\"woman\" + 0.022*\"perth\" + 0.019*\"world\"\n",
      "Score: 0.02000485360622406\t Topic: 0.031*\"polic\" + 0.028*\"charg\" + 0.026*\"court\" + 0.021*\"child\" + 0.020*\"murder\"\n",
      "Score: 0.02000485360622406\t Topic: 0.028*\"report\" + 0.023*\"test\" + 0.018*\"hour\" + 0.018*\"chang\" + 0.015*\"australia\"\n"
     ]
    }
   ],
   "source": [
    "unseen_document = \"My favorite sports activities are running and swimming.\"\n",
    "\n",
    "# Data preprocessing step for the unseen document\n",
    "bow_vector = dictionary.doc2bow(preprocess(unseen_document))\n",
    "\n",
    "for index, score in sorted(lda_model[bow_vector], key=lambda tup: -1*tup[1]):\n",
    "    print(\"Score: {}\\t Topic: {}\".format(score, lda_model.print_topic(index, 5)))"
   ]
  },
  {
   "cell_type": "markdown",
   "metadata": {},
   "source": [
    "### Now, look up different ways we can transform our words or use different techniques or improvements that we can make to make our Topic Classifier more accurate. Write them down below:"
   ]
  },
  {
   "cell_type": "markdown",
   "metadata": {},
   "source": [
    "**We can:**\n",
    "- Append points here\n",
    "- Latent Semantic Analysis(LSA)\n",
    "- Multinomial Naive Bayes(MNB)\n",
    "- Support Vector Machines(SVM)\n",
    "- CNNs and RNNs"
   ]
  },
  {
   "cell_type": "code",
   "execution_count": null,
   "metadata": {},
   "outputs": [],
   "source": []
  }
 ],
 "metadata": {
  "kernelspec": {
   "display_name": "Python 3",
   "language": "python",
   "name": "python3"
  },
  "language_info": {
   "codemirror_mode": {
    "name": "ipython",
    "version": 3
   },
   "file_extension": ".py",
   "mimetype": "text/x-python",
   "name": "python",
   "nbconvert_exporter": "python",
   "pygments_lexer": "ipython3",
   "version": "3.8.8"
  }
 },
 "nbformat": 4,
 "nbformat_minor": 1
}
