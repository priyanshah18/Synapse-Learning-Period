{
 "cells": [
  {
   "cell_type": "markdown",
   "metadata": {
    "id": "C8KlsCFL1tvs"
   },
   "source": [
    "# Task 1\n",
    "#### Week 1 (Learning Period Synapse)\n",
    "###### pandas, numpy, matplotlib"
   ]
  },
  {
   "cell_type": "code",
   "execution_count": 17,
   "metadata": {
    "colab": {
     "base_uri": "https://localhost:8080/"
    },
    "executionInfo": {
     "elapsed": 24070,
     "status": "ok",
     "timestamp": 1632724381141,
     "user": {
      "displayName": "Amay Gada",
      "photoUrl": "https://lh3.googleusercontent.com/a-/AOh14GhIegWflm0DVHy8h-sj9l7nvh_87WZPEby6oqxqjw=s64",
      "userId": "18318224108445437394"
     },
     "user_tz": -330
    },
    "id": "wcGii-p723dl",
    "outputId": "c3c08099-f6ef-4352-d716-be75fb277dd2"
   },
   "outputs": [
    {
     "ename": "ModuleNotFoundError",
     "evalue": "No module named 'google'",
     "output_type": "error",
     "traceback": [
      "\u001b[1;31m---------------------------------------------------------------------------\u001b[0m",
      "\u001b[1;31mModuleNotFoundError\u001b[0m                       Traceback (most recent call last)",
      "\u001b[1;32m<ipython-input-17-b79d998bf33d>\u001b[0m in \u001b[0;36m<module>\u001b[1;34m\u001b[0m\n\u001b[1;32m----> 1\u001b[1;33m \u001b[1;32mfrom\u001b[0m \u001b[0mgoogle\u001b[0m\u001b[1;33m.\u001b[0m\u001b[0mcolab\u001b[0m \u001b[1;32mimport\u001b[0m \u001b[0mdrive\u001b[0m\u001b[1;33m\u001b[0m\u001b[1;33m\u001b[0m\u001b[0m\n\u001b[0m\u001b[0;32m      2\u001b[0m \u001b[0mdrive\u001b[0m\u001b[1;33m.\u001b[0m\u001b[0mmount\u001b[0m\u001b[1;33m(\u001b[0m\u001b[1;34m\"/content/gdrive\"\u001b[0m\u001b[1;33m)\u001b[0m\u001b[1;33m\u001b[0m\u001b[1;33m\u001b[0m\u001b[0m\n",
      "\u001b[1;31mModuleNotFoundError\u001b[0m: No module named 'google'"
     ]
    }
   ],
   "source": [
    "from google.colab import drive\n",
    "drive.mount(\"/content/gdrive\")"
   ]
  },
  {
   "cell_type": "code",
   "execution_count": null,
   "metadata": {
    "id": "m6HJFwYI9U55"
   },
   "outputs": [],
   "source": []
  },
  {
   "cell_type": "markdown",
   "metadata": {
    "id": "2ufinDlF2oH7"
   },
   "source": [
    "## 1. Import pandas, numpy and matplotlib"
   ]
  },
  {
   "cell_type": "code",
   "execution_count": 10,
   "metadata": {
    "id": "V0KqGm1I2mx6"
   },
   "outputs": [],
   "source": [
    "#write code here"
   ]
  },
  {
   "cell_type": "code",
   "execution_count": 26,
   "metadata": {
    "id": "P0xumbaX27tR"
   },
   "outputs": [],
   "source": [
    "import numpy as np\n",
    "import pandas as pd\n",
    "import matplotlib.pyplot as plt"
   ]
  },
  {
   "cell_type": "markdown",
   "metadata": {
    "id": "5dFTZvpm28n7"
   },
   "source": [
    "## 2. load the data \n",
    "<br> load the titanic dataset in a pandas dataframe <br> (download dataset from https://www.kaggle.com/c/titanic/data and store it in a folder called <b>\"syanpse_w1\"</b> in the root of your drive) <br>\n",
    "Note that you have to download the train and test csv files seperately"
   ]
  },
  {
   "cell_type": "code",
   "execution_count": 27,
   "metadata": {
    "colab": {
     "base_uri": "https://localhost:8080/",
     "height": 218
    },
    "executionInfo": {
     "elapsed": 1596,
     "status": "error",
     "timestamp": 1632806561598,
     "user": {
      "displayName": "Synapse Core",
      "photoUrl": "https://lh3.googleusercontent.com/a-/AOh14Gip0hd3Ps58SeJVlXZMjgdmz6n_nah5Hzl1ynjg=s64",
      "userId": "00506809504713929423"
     },
     "user_tz": -330
    },
    "id": "mY_Fol-u1qmi",
    "outputId": "e5413149-c574-4071-e1b0-208bea8de0ac"
   },
   "outputs": [],
   "source": [
    "train_path = \"train.csv\"\n",
    "test_path = \"test.csv\"\n",
    "\n",
    "#write code to load train.csv and test.csv in dataframes\n",
    "train_df = pd.read_csv(train_path)\n",
    "test_df = pd.read_csv(test_path)"
   ]
  },
  {
   "cell_type": "code",
   "execution_count": 28,
   "metadata": {
    "id": "loyfFwFK1s6-"
   },
   "outputs": [
    {
     "data": {
      "text/html": [
       "<div>\n",
       "<style scoped>\n",
       "    .dataframe tbody tr th:only-of-type {\n",
       "        vertical-align: middle;\n",
       "    }\n",
       "\n",
       "    .dataframe tbody tr th {\n",
       "        vertical-align: top;\n",
       "    }\n",
       "\n",
       "    .dataframe thead th {\n",
       "        text-align: right;\n",
       "    }\n",
       "</style>\n",
       "<table border=\"1\" class=\"dataframe\">\n",
       "  <thead>\n",
       "    <tr style=\"text-align: right;\">\n",
       "      <th></th>\n",
       "      <th>PassengerId</th>\n",
       "      <th>Survived</th>\n",
       "      <th>Pclass</th>\n",
       "      <th>Name</th>\n",
       "      <th>Sex</th>\n",
       "      <th>Age</th>\n",
       "      <th>SibSp</th>\n",
       "      <th>Parch</th>\n",
       "      <th>Ticket</th>\n",
       "      <th>Fare</th>\n",
       "      <th>Cabin</th>\n",
       "      <th>Embarked</th>\n",
       "    </tr>\n",
       "  </thead>\n",
       "  <tbody>\n",
       "    <tr>\n",
       "      <th>0</th>\n",
       "      <td>1</td>\n",
       "      <td>0</td>\n",
       "      <td>3</td>\n",
       "      <td>Braund, Mr. Owen Harris</td>\n",
       "      <td>male</td>\n",
       "      <td>22.0</td>\n",
       "      <td>1</td>\n",
       "      <td>0</td>\n",
       "      <td>A/5 21171</td>\n",
       "      <td>7.2500</td>\n",
       "      <td>NaN</td>\n",
       "      <td>S</td>\n",
       "    </tr>\n",
       "    <tr>\n",
       "      <th>1</th>\n",
       "      <td>2</td>\n",
       "      <td>1</td>\n",
       "      <td>1</td>\n",
       "      <td>Cumings, Mrs. John Bradley (Florence Briggs Th...</td>\n",
       "      <td>female</td>\n",
       "      <td>38.0</td>\n",
       "      <td>1</td>\n",
       "      <td>0</td>\n",
       "      <td>PC 17599</td>\n",
       "      <td>71.2833</td>\n",
       "      <td>C85</td>\n",
       "      <td>C</td>\n",
       "    </tr>\n",
       "    <tr>\n",
       "      <th>2</th>\n",
       "      <td>3</td>\n",
       "      <td>1</td>\n",
       "      <td>3</td>\n",
       "      <td>Heikkinen, Miss. Laina</td>\n",
       "      <td>female</td>\n",
       "      <td>26.0</td>\n",
       "      <td>0</td>\n",
       "      <td>0</td>\n",
       "      <td>STON/O2. 3101282</td>\n",
       "      <td>7.9250</td>\n",
       "      <td>NaN</td>\n",
       "      <td>S</td>\n",
       "    </tr>\n",
       "    <tr>\n",
       "      <th>3</th>\n",
       "      <td>4</td>\n",
       "      <td>1</td>\n",
       "      <td>1</td>\n",
       "      <td>Futrelle, Mrs. Jacques Heath (Lily May Peel)</td>\n",
       "      <td>female</td>\n",
       "      <td>35.0</td>\n",
       "      <td>1</td>\n",
       "      <td>0</td>\n",
       "      <td>113803</td>\n",
       "      <td>53.1000</td>\n",
       "      <td>C123</td>\n",
       "      <td>S</td>\n",
       "    </tr>\n",
       "    <tr>\n",
       "      <th>4</th>\n",
       "      <td>5</td>\n",
       "      <td>0</td>\n",
       "      <td>3</td>\n",
       "      <td>Allen, Mr. William Henry</td>\n",
       "      <td>male</td>\n",
       "      <td>35.0</td>\n",
       "      <td>0</td>\n",
       "      <td>0</td>\n",
       "      <td>373450</td>\n",
       "      <td>8.0500</td>\n",
       "      <td>NaN</td>\n",
       "      <td>S</td>\n",
       "    </tr>\n",
       "  </tbody>\n",
       "</table>\n",
       "</div>"
      ],
      "text/plain": [
       "   PassengerId  Survived  Pclass  \\\n",
       "0            1         0       3   \n",
       "1            2         1       1   \n",
       "2            3         1       3   \n",
       "3            4         1       1   \n",
       "4            5         0       3   \n",
       "\n",
       "                                                Name     Sex   Age  SibSp  \\\n",
       "0                            Braund, Mr. Owen Harris    male  22.0      1   \n",
       "1  Cumings, Mrs. John Bradley (Florence Briggs Th...  female  38.0      1   \n",
       "2                             Heikkinen, Miss. Laina  female  26.0      0   \n",
       "3       Futrelle, Mrs. Jacques Heath (Lily May Peel)  female  35.0      1   \n",
       "4                           Allen, Mr. William Henry    male  35.0      0   \n",
       "\n",
       "   Parch            Ticket     Fare Cabin Embarked  \n",
       "0      0         A/5 21171   7.2500   NaN        S  \n",
       "1      0          PC 17599  71.2833   C85        C  \n",
       "2      0  STON/O2. 3101282   7.9250   NaN        S  \n",
       "3      0            113803  53.1000  C123        S  \n",
       "4      0            373450   8.0500   NaN        S  "
      ]
     },
     "execution_count": 28,
     "metadata": {},
     "output_type": "execute_result"
    }
   ],
   "source": [
    "#write code to show first five data entries of both dataframes\n",
    "train_df.head()"
   ]
  },
  {
   "cell_type": "code",
   "execution_count": 29,
   "metadata": {
    "id": "d21HPJDrHFOk"
   },
   "outputs": [
    {
     "data": {
      "text/html": [
       "<div>\n",
       "<style scoped>\n",
       "    .dataframe tbody tr th:only-of-type {\n",
       "        vertical-align: middle;\n",
       "    }\n",
       "\n",
       "    .dataframe tbody tr th {\n",
       "        vertical-align: top;\n",
       "    }\n",
       "\n",
       "    .dataframe thead th {\n",
       "        text-align: right;\n",
       "    }\n",
       "</style>\n",
       "<table border=\"1\" class=\"dataframe\">\n",
       "  <thead>\n",
       "    <tr style=\"text-align: right;\">\n",
       "      <th></th>\n",
       "      <th>PassengerId</th>\n",
       "      <th>Pclass</th>\n",
       "      <th>Name</th>\n",
       "      <th>Sex</th>\n",
       "      <th>Age</th>\n",
       "      <th>SibSp</th>\n",
       "      <th>Parch</th>\n",
       "      <th>Ticket</th>\n",
       "      <th>Fare</th>\n",
       "      <th>Cabin</th>\n",
       "      <th>Embarked</th>\n",
       "    </tr>\n",
       "  </thead>\n",
       "  <tbody>\n",
       "    <tr>\n",
       "      <th>0</th>\n",
       "      <td>892</td>\n",
       "      <td>3</td>\n",
       "      <td>Kelly, Mr. James</td>\n",
       "      <td>male</td>\n",
       "      <td>34.5</td>\n",
       "      <td>0</td>\n",
       "      <td>0</td>\n",
       "      <td>330911</td>\n",
       "      <td>7.8292</td>\n",
       "      <td>NaN</td>\n",
       "      <td>Q</td>\n",
       "    </tr>\n",
       "    <tr>\n",
       "      <th>1</th>\n",
       "      <td>893</td>\n",
       "      <td>3</td>\n",
       "      <td>Wilkes, Mrs. James (Ellen Needs)</td>\n",
       "      <td>female</td>\n",
       "      <td>47.0</td>\n",
       "      <td>1</td>\n",
       "      <td>0</td>\n",
       "      <td>363272</td>\n",
       "      <td>7.0000</td>\n",
       "      <td>NaN</td>\n",
       "      <td>S</td>\n",
       "    </tr>\n",
       "    <tr>\n",
       "      <th>2</th>\n",
       "      <td>894</td>\n",
       "      <td>2</td>\n",
       "      <td>Myles, Mr. Thomas Francis</td>\n",
       "      <td>male</td>\n",
       "      <td>62.0</td>\n",
       "      <td>0</td>\n",
       "      <td>0</td>\n",
       "      <td>240276</td>\n",
       "      <td>9.6875</td>\n",
       "      <td>NaN</td>\n",
       "      <td>Q</td>\n",
       "    </tr>\n",
       "    <tr>\n",
       "      <th>3</th>\n",
       "      <td>895</td>\n",
       "      <td>3</td>\n",
       "      <td>Wirz, Mr. Albert</td>\n",
       "      <td>male</td>\n",
       "      <td>27.0</td>\n",
       "      <td>0</td>\n",
       "      <td>0</td>\n",
       "      <td>315154</td>\n",
       "      <td>8.6625</td>\n",
       "      <td>NaN</td>\n",
       "      <td>S</td>\n",
       "    </tr>\n",
       "    <tr>\n",
       "      <th>4</th>\n",
       "      <td>896</td>\n",
       "      <td>3</td>\n",
       "      <td>Hirvonen, Mrs. Alexander (Helga E Lindqvist)</td>\n",
       "      <td>female</td>\n",
       "      <td>22.0</td>\n",
       "      <td>1</td>\n",
       "      <td>1</td>\n",
       "      <td>3101298</td>\n",
       "      <td>12.2875</td>\n",
       "      <td>NaN</td>\n",
       "      <td>S</td>\n",
       "    </tr>\n",
       "  </tbody>\n",
       "</table>\n",
       "</div>"
      ],
      "text/plain": [
       "   PassengerId  Pclass                                          Name     Sex  \\\n",
       "0          892       3                              Kelly, Mr. James    male   \n",
       "1          893       3              Wilkes, Mrs. James (Ellen Needs)  female   \n",
       "2          894       2                     Myles, Mr. Thomas Francis    male   \n",
       "3          895       3                              Wirz, Mr. Albert    male   \n",
       "4          896       3  Hirvonen, Mrs. Alexander (Helga E Lindqvist)  female   \n",
       "\n",
       "    Age  SibSp  Parch   Ticket     Fare Cabin Embarked  \n",
       "0  34.5      0      0   330911   7.8292   NaN        Q  \n",
       "1  47.0      1      0   363272   7.0000   NaN        S  \n",
       "2  62.0      0      0   240276   9.6875   NaN        Q  \n",
       "3  27.0      0      0   315154   8.6625   NaN        S  \n",
       "4  22.0      1      1  3101298  12.2875   NaN        S  "
      ]
     },
     "execution_count": 29,
     "metadata": {},
     "output_type": "execute_result"
    }
   ],
   "source": [
    "test_df.head()"
   ]
  },
  {
   "cell_type": "markdown",
   "metadata": {
    "id": "eAe9H4ub-9TB"
   },
   "source": [
    "## 3. Exploratory Data Analysis\n",
    "Exploratory data analysis is a very important part of ML as it helps you understand the data you are dealing with <br>\n",
    "<br>\n",
    "(we will be working on the train dataframe in this task)"
   ]
  },
  {
   "cell_type": "markdown",
   "metadata": {
    "id": "7n5NzvIOAH1G"
   },
   "source": [
    "### 3.a. overview of the dataset"
   ]
  },
  {
   "cell_type": "markdown",
   "metadata": {
    "id": "dIl7EiGEBjPL"
   },
   "source": [
    " - write code to list the columns in your dataframe (each column on new line as visibility is important)"
   ]
  },
  {
   "cell_type": "code",
   "execution_count": 30,
   "metadata": {
    "id": "jgGpmmk4BNpf"
   },
   "outputs": [
    {
     "data": {
      "text/plain": [
       "['PassengerId',\n",
       " 'Survived',\n",
       " 'Pclass',\n",
       " 'Name',\n",
       " 'Sex',\n",
       " 'Age',\n",
       " 'SibSp',\n",
       " 'Parch',\n",
       " 'Ticket',\n",
       " 'Fare',\n",
       " 'Cabin',\n",
       " 'Embarked']"
      ]
     },
     "execution_count": 30,
     "metadata": {},
     "output_type": "execute_result"
    }
   ],
   "source": [
    "#write code here\n",
    "cols = train_df.columns\n",
    "list(cols)"
   ]
  },
  {
   "cell_type": "code",
   "execution_count": null,
   "metadata": {},
   "outputs": [],
   "source": []
  },
  {
   "cell_type": "markdown",
   "metadata": {
    "id": "BbtlcScEBkwG"
   },
   "source": [
    " - write a function that returns the number of rows and columns in the dataset "
   ]
  },
  {
   "cell_type": "code",
   "execution_count": 31,
   "metadata": {
    "id": "huYZDIdW87BM"
   },
   "outputs": [
    {
     "name": "stdout",
     "output_type": "stream",
     "text": [
      "891\n",
      "12\n"
     ]
    }
   ],
   "source": [
    "#write code here (print values as well)\n",
    "rows = len(train_df)\n",
    "cols = len(train_df.columns)\n",
    "\n",
    "print(rows)\n",
    "print(cols)"
   ]
  },
  {
   "cell_type": "markdown",
   "metadata": {
    "id": "tFWvBxGvCR5M"
   },
   "source": [
    " - use the info() method of pandas dataframe to print the info related to the dataframe"
   ]
  },
  {
   "cell_type": "code",
   "execution_count": 32,
   "metadata": {
    "id": "oDGygTjuAhtf"
   },
   "outputs": [
    {
     "name": "stdout",
     "output_type": "stream",
     "text": [
      "<class 'pandas.core.frame.DataFrame'>\n",
      "RangeIndex: 891 entries, 0 to 890\n",
      "Data columns (total 12 columns):\n",
      " #   Column       Non-Null Count  Dtype  \n",
      "---  ------       --------------  -----  \n",
      " 0   PassengerId  891 non-null    int64  \n",
      " 1   Survived     891 non-null    int64  \n",
      " 2   Pclass       891 non-null    int64  \n",
      " 3   Name         891 non-null    object \n",
      " 4   Sex          891 non-null    object \n",
      " 5   Age          714 non-null    float64\n",
      " 6   SibSp        891 non-null    int64  \n",
      " 7   Parch        891 non-null    int64  \n",
      " 8   Ticket       891 non-null    object \n",
      " 9   Fare         891 non-null    float64\n",
      " 10  Cabin        204 non-null    object \n",
      " 11  Embarked     889 non-null    object \n",
      "dtypes: float64(2), int64(5), object(5)\n",
      "memory usage: 83.7+ KB\n"
     ]
    }
   ],
   "source": [
    "# write code here\n",
    "train_df.info()"
   ]
  },
  {
   "cell_type": "markdown",
   "metadata": {
    "id": "JtEy2fQuCfic"
   },
   "source": [
    " - use the describe() method of pandas dataframe to print the statistical description of the dataset"
   ]
  },
  {
   "cell_type": "code",
   "execution_count": 33,
   "metadata": {
    "id": "HmAzuSpcCfAC"
   },
   "outputs": [
    {
     "data": {
      "text/html": [
       "<div>\n",
       "<style scoped>\n",
       "    .dataframe tbody tr th:only-of-type {\n",
       "        vertical-align: middle;\n",
       "    }\n",
       "\n",
       "    .dataframe tbody tr th {\n",
       "        vertical-align: top;\n",
       "    }\n",
       "\n",
       "    .dataframe thead th {\n",
       "        text-align: right;\n",
       "    }\n",
       "</style>\n",
       "<table border=\"1\" class=\"dataframe\">\n",
       "  <thead>\n",
       "    <tr style=\"text-align: right;\">\n",
       "      <th></th>\n",
       "      <th>PassengerId</th>\n",
       "      <th>Survived</th>\n",
       "      <th>Pclass</th>\n",
       "      <th>Age</th>\n",
       "      <th>SibSp</th>\n",
       "      <th>Parch</th>\n",
       "      <th>Fare</th>\n",
       "    </tr>\n",
       "  </thead>\n",
       "  <tbody>\n",
       "    <tr>\n",
       "      <th>count</th>\n",
       "      <td>891.000000</td>\n",
       "      <td>891.000000</td>\n",
       "      <td>891.000000</td>\n",
       "      <td>714.000000</td>\n",
       "      <td>891.000000</td>\n",
       "      <td>891.000000</td>\n",
       "      <td>891.000000</td>\n",
       "    </tr>\n",
       "    <tr>\n",
       "      <th>mean</th>\n",
       "      <td>446.000000</td>\n",
       "      <td>0.383838</td>\n",
       "      <td>2.308642</td>\n",
       "      <td>29.699118</td>\n",
       "      <td>0.523008</td>\n",
       "      <td>0.381594</td>\n",
       "      <td>32.204208</td>\n",
       "    </tr>\n",
       "    <tr>\n",
       "      <th>std</th>\n",
       "      <td>257.353842</td>\n",
       "      <td>0.486592</td>\n",
       "      <td>0.836071</td>\n",
       "      <td>14.526497</td>\n",
       "      <td>1.102743</td>\n",
       "      <td>0.806057</td>\n",
       "      <td>49.693429</td>\n",
       "    </tr>\n",
       "    <tr>\n",
       "      <th>min</th>\n",
       "      <td>1.000000</td>\n",
       "      <td>0.000000</td>\n",
       "      <td>1.000000</td>\n",
       "      <td>0.420000</td>\n",
       "      <td>0.000000</td>\n",
       "      <td>0.000000</td>\n",
       "      <td>0.000000</td>\n",
       "    </tr>\n",
       "    <tr>\n",
       "      <th>25%</th>\n",
       "      <td>223.500000</td>\n",
       "      <td>0.000000</td>\n",
       "      <td>2.000000</td>\n",
       "      <td>20.125000</td>\n",
       "      <td>0.000000</td>\n",
       "      <td>0.000000</td>\n",
       "      <td>7.910400</td>\n",
       "    </tr>\n",
       "    <tr>\n",
       "      <th>50%</th>\n",
       "      <td>446.000000</td>\n",
       "      <td>0.000000</td>\n",
       "      <td>3.000000</td>\n",
       "      <td>28.000000</td>\n",
       "      <td>0.000000</td>\n",
       "      <td>0.000000</td>\n",
       "      <td>14.454200</td>\n",
       "    </tr>\n",
       "    <tr>\n",
       "      <th>75%</th>\n",
       "      <td>668.500000</td>\n",
       "      <td>1.000000</td>\n",
       "      <td>3.000000</td>\n",
       "      <td>38.000000</td>\n",
       "      <td>1.000000</td>\n",
       "      <td>0.000000</td>\n",
       "      <td>31.000000</td>\n",
       "    </tr>\n",
       "    <tr>\n",
       "      <th>max</th>\n",
       "      <td>891.000000</td>\n",
       "      <td>1.000000</td>\n",
       "      <td>3.000000</td>\n",
       "      <td>80.000000</td>\n",
       "      <td>8.000000</td>\n",
       "      <td>6.000000</td>\n",
       "      <td>512.329200</td>\n",
       "    </tr>\n",
       "  </tbody>\n",
       "</table>\n",
       "</div>"
      ],
      "text/plain": [
       "       PassengerId    Survived      Pclass         Age       SibSp  \\\n",
       "count   891.000000  891.000000  891.000000  714.000000  891.000000   \n",
       "mean    446.000000    0.383838    2.308642   29.699118    0.523008   \n",
       "std     257.353842    0.486592    0.836071   14.526497    1.102743   \n",
       "min       1.000000    0.000000    1.000000    0.420000    0.000000   \n",
       "25%     223.500000    0.000000    2.000000   20.125000    0.000000   \n",
       "50%     446.000000    0.000000    3.000000   28.000000    0.000000   \n",
       "75%     668.500000    1.000000    3.000000   38.000000    1.000000   \n",
       "max     891.000000    1.000000    3.000000   80.000000    8.000000   \n",
       "\n",
       "            Parch        Fare  \n",
       "count  891.000000  891.000000  \n",
       "mean     0.381594   32.204208  \n",
       "std      0.806057   49.693429  \n",
       "min      0.000000    0.000000  \n",
       "25%      0.000000    7.910400  \n",
       "50%      0.000000   14.454200  \n",
       "75%      0.000000   31.000000  \n",
       "max      6.000000  512.329200  "
      ]
     },
     "execution_count": 33,
     "metadata": {},
     "output_type": "execute_result"
    }
   ],
   "source": [
    "#write code here\n",
    "train_df.describe()"
   ]
  },
  {
   "cell_type": "markdown",
   "metadata": {
    "id": "A9e7GcsJC_ww"
   },
   "source": [
    " - Find all columns that have unique values. (example : the Gender column has 2 unique values Male and Female) <br>\n",
    "\n",
    " - if the columns have finite unique values, then add them in a dictionary of lists and print it <br>\n",
    "<br>\n",
    "dictionary should look like : <br>\n",
    "<t>{<br>&nbsp;&nbsp; \"Gender\" : [\"Male\", \"Female\"],<br>&nbsp;&nbsp; \"Col2\" : [\"unique1\", \"unique2\"],<br>&nbsp;&nbsp;&nbsp;&nbsp;.<br>&nbsp;&nbsp;&nbsp;&nbsp;.<br>&nbsp;&nbsp;&nbsp;&nbsp;.<br>}"
   ]
  },
  {
   "cell_type": "code",
   "execution_count": 34,
   "metadata": {
    "id": "SvWOT_pKDbdu"
   },
   "outputs": [
    {
     "name": "stdout",
     "output_type": "stream",
     "text": [
      "{'Survived': array([0, 1], dtype=int64), 'Pclass': array([3, 1, 2], dtype=int64), 'Sex': array(['male', 'female'], dtype=object), 'Embarked': array(['S', 'C', 'Q', nan], dtype=object), 'Cabin': array([nan, 'C85', 'C123', 'E46', 'G6', 'C103', 'D56', 'A6',\n",
      "       'C23 C25 C27', 'B78', 'D33', 'B30', 'C52', 'B28', 'C83', 'F33',\n",
      "       'F G73', 'E31', 'A5', 'D10 D12', 'D26', 'C110', 'B58 B60', 'E101',\n",
      "       'F E69', 'D47', 'B86', 'F2', 'C2', 'E33', 'B19', 'A7', 'C49', 'F4',\n",
      "       'A32', 'B4', 'B80', 'A31', 'D36', 'D15', 'C93', 'C78', 'D35',\n",
      "       'C87', 'B77', 'E67', 'B94', 'C125', 'C99', 'C118', 'D7', 'A19',\n",
      "       'B49', 'D', 'C22 C26', 'C106', 'C65', 'E36', 'C54',\n",
      "       'B57 B59 B63 B66', 'C7', 'E34', 'C32', 'B18', 'C124', 'C91', 'E40',\n",
      "       'T', 'C128', 'D37', 'B35', 'E50', 'C82', 'B96 B98', 'E10', 'E44',\n",
      "       'A34', 'C104', 'C111', 'C92', 'E38', 'D21', 'E12', 'E63', 'A14',\n",
      "       'B37', 'C30', 'D20', 'B79', 'E25', 'D46', 'B73', 'C95', 'B38',\n",
      "       'B39', 'B22', 'C86', 'C70', 'A16', 'C101', 'C68', 'A10', 'E68',\n",
      "       'B41', 'A20', 'D19', 'D50', 'D9', 'A23', 'B50', 'A26', 'D48',\n",
      "       'E58', 'C126', 'B71', 'B51 B53 B55', 'D49', 'B5', 'B20', 'F G63',\n",
      "       'C62 C64', 'E24', 'C90', 'C45', 'E8', 'B101', 'D45', 'C46', 'D30',\n",
      "       'E121', 'D11', 'E77', 'F38', 'B3', 'D6', 'B82 B84', 'D17', 'A36',\n",
      "       'B102', 'B69', 'E49', 'C47', 'D28', 'E17', 'A24', 'C50', 'B42',\n",
      "       'C148'], dtype=object)}\n"
     ]
    }
   ],
   "source": [
    "#write code here\n",
    "unique_val_col = ['Pclass','Survived','Sex','Embarked']\n",
    "   \n",
    "\n",
    "d = {}\n",
    "d[\"Survived\"] = train_df[\"Survived\"].unique()\n",
    "d[\"Pclass\"] = train_df[\"Pclass\"].unique()\n",
    "d[\"Sex\"] = train_df[\"Sex\"].unique()\n",
    "d[\"Embarked\"] = train_df[\"Embarked\"].unique()\n",
    "d[\"Cabin\"] = train_df[\"Cabin\"].unique()\n",
    "print(d)"
   ]
  },
  {
   "cell_type": "code",
   "execution_count": null,
   "metadata": {
    "id": "CBMXRkJTHyWL"
   },
   "outputs": [],
   "source": []
  },
  {
   "cell_type": "markdown",
   "metadata": {
    "id": "V1OdlEqXHzMC"
   },
   "source": [
    "### 3.b. Visualizing hidden Details"
   ]
  },
  {
   "cell_type": "markdown",
   "metadata": {
    "id": "De37jtciIY7F"
   },
   "source": [
    "##### Aim is to find relationship between Title and Survival rate\n",
    "- print the <b>name</b> column of the data<br>\n",
    "- notice that the word after the first comma encapsulates the title of the person (Mr., Mrs, etc)\n",
    "- extract the title using regular expression (help given below in the code)\n",
    "- store the title in a new column in the dataframe. Name the column : <b>Title</b>"
   ]
  },
  {
   "cell_type": "code",
   "execution_count": 35,
   "metadata": {
    "id": "URnLEQP-EsXA"
   },
   "outputs": [],
   "source": [
    "#write code here (for regex help refer next code cell)\n",
    "import re\n",
    "names = train_df[\"Name\"]\n",
    "\n",
    "def get_title(name):\n",
    "    title_search = re.search(' ([A-Za-z]+)\\.', name)\n",
    "    if title_search:\n",
    "        return title_search.group(1)\n",
    "    return \"\"\n",
    "\n",
    "for name in names:\n",
    "    train_df['Title'] = train_df['Name'].apply(get_title)\n",
    "        \n",
    "\n"
   ]
  },
  {
   "cell_type": "code",
   "execution_count": 36,
   "metadata": {
    "colab": {
     "base_uri": "https://localhost:8080/"
    },
    "executionInfo": {
     "elapsed": 415,
     "status": "ok",
     "timestamp": 1632728270660,
     "user": {
      "displayName": "Amay Gada",
      "photoUrl": "https://lh3.googleusercontent.com/a-/AOh14GhIegWflm0DVHy8h-sj9l7nvh_87WZPEby6oqxqjw=s64",
      "userId": "18318224108445437394"
     },
     "user_tz": -330
    },
    "id": "X62p2RoZIp6U",
    "outputId": "4d8f881f-c018-4ca4-fae1-f1dc83cc30b0"
   },
   "outputs": [
    {
     "name": "stdout",
     "output_type": "stream",
     "text": [
      "result: <re.Match object; span=(10, 15), match='Miss.'>\n",
      "pattern found\n",
      "title: Miss\n"
     ]
    }
   ],
   "source": [
    "#regex example\n",
    "import re\n",
    "\n",
    "name_eg = \"Petranec, Miss. Matilda\"\n",
    "title_search = re.search('(\\w+)\\.', name_eg) #the first argument is a pattern that we are looking for\n",
    "print(\"result:\", title_search) #this is the result we get after looking for the pattern\n",
    "if title_search:\n",
    "  print(\"pattern found\") #pattern found printed if a pattern like above is found\n",
    "  title = title_search.group(1) #extracting the pattern found by regular expression (title here)\n",
    "  print(\"title:\", title) "
   ]
  },
  {
   "cell_type": "code",
   "execution_count": 37,
   "metadata": {
    "id": "5ZMsfu5HKYbU"
   },
   "outputs": [
    {
     "data": {
      "text/plain": [
       "0        Mr\n",
       "1       Mrs\n",
       "2      Miss\n",
       "3       Mrs\n",
       "4        Mr\n",
       "       ... \n",
       "886     Rev\n",
       "887    Miss\n",
       "888    Miss\n",
       "889      Mr\n",
       "890      Mr\n",
       "Name: Title, Length: 891, dtype: object"
      ]
     },
     "execution_count": 37,
     "metadata": {},
     "output_type": "execute_result"
    }
   ],
   "source": [
    "#show the new dataframe with \"Title\" column here\n",
    "train_df[\"Title\"]"
   ]
  },
  {
   "cell_type": "code",
   "execution_count": null,
   "metadata": {
    "id": "bLHjnfQ3O7Nf"
   },
   "outputs": [],
   "source": []
  },
  {
   "cell_type": "markdown",
   "metadata": {
    "id": "xQBmJI2eM5KT"
   },
   "source": [
    "- write code to get unique values from the title column\n",
    "- use the unique titles to find the number of people who survived (1) and number of people who did not (0) for each title. <b>num_survived/total</b> will give the survival rate for that title\n",
    "- make a new dataframe called <b>SR_df</b> and add the survival rates corresponding to titles in it<br><br>\n",
    "you may write a function for the above.<br><br>\n",
    "expected output : <br>\n",
    "Mr &nbsp;&nbsp; 0.679392<br>\n",
    "Capt &nbsp;&nbsp; 0.1245<br>\n",
    "&nbsp;&nbsp;.<br>\n",
    "&nbsp;&nbsp;.<br>\n",
    "&nbsp;&nbsp;.<br>\n"
   ]
  },
  {
   "cell_type": "code",
   "execution_count": 38,
   "metadata": {
    "id": "HYHZxu-YO-NJ"
   },
   "outputs": [
    {
     "name": "stdout",
     "output_type": "stream",
     "text": [
      "Mr : 0.15667311411992263\n",
      "Mrs : 0.792\n",
      "Miss : 0.6978021978021978\n",
      "Master : 0.575\n",
      "Don : 0.0\n",
      "Rev : 0.0\n",
      "Dr : 0.42857142857142855\n",
      "Mme : 1.0\n",
      "Ms : 1.0\n",
      "Major : 0.5\n",
      "Lady : 1.0\n",
      "Sir : 1.0\n",
      "Mlle : 1.0\n",
      "Col : 0.5\n",
      "Capt : 0.0\n",
      "Countess : 1.0\n",
      "Jonkheer : 0.0\n"
     ]
    }
   ],
   "source": [
    "#write code here\n",
    "titles = train_df[\"Title\"].unique()\n",
    "num_survived = train_df.groupby('Title')['Survived'].sum()\n",
    "total = train_df[\"Title\"].value_counts()\n",
    "\n",
    "# unique= train_df.Title.unique()\n",
    "dic={}\n",
    "\n",
    "for i in titles :\n",
    "  count=k=0\n",
    "  num_sur =0\n",
    "  for j in train_df['Title']:\n",
    "    if j==i :\n",
    "      count +=1\n",
    "      if train_df.at[k,\"Survived\"]==1:\n",
    "        num_sur+=1\n",
    "    k+=1\n",
    "  dic[i]= num_sur/count\n",
    "\n",
    "for key, value in dic.items():\n",
    "  print(key, \":\", value)\n",
    "\n",
    "\n",
    "SR_df = pd.DataFrame(list(dic.items()))\n",
    "  "
   ]
  },
  {
   "cell_type": "code",
   "execution_count": 39,
   "metadata": {
    "id": "eftv29NFPJzr"
   },
   "outputs": [
    {
     "data": {
      "text/html": [
       "<div>\n",
       "<style scoped>\n",
       "    .dataframe tbody tr th:only-of-type {\n",
       "        vertical-align: middle;\n",
       "    }\n",
       "\n",
       "    .dataframe tbody tr th {\n",
       "        vertical-align: top;\n",
       "    }\n",
       "\n",
       "    .dataframe thead th {\n",
       "        text-align: right;\n",
       "    }\n",
       "</style>\n",
       "<table border=\"1\" class=\"dataframe\">\n",
       "  <thead>\n",
       "    <tr style=\"text-align: right;\">\n",
       "      <th></th>\n",
       "      <th>0</th>\n",
       "      <th>1</th>\n",
       "    </tr>\n",
       "  </thead>\n",
       "  <tbody>\n",
       "    <tr>\n",
       "      <th>0</th>\n",
       "      <td>Mr</td>\n",
       "      <td>0.156673</td>\n",
       "    </tr>\n",
       "    <tr>\n",
       "      <th>1</th>\n",
       "      <td>Mrs</td>\n",
       "      <td>0.792000</td>\n",
       "    </tr>\n",
       "    <tr>\n",
       "      <th>2</th>\n",
       "      <td>Miss</td>\n",
       "      <td>0.697802</td>\n",
       "    </tr>\n",
       "    <tr>\n",
       "      <th>3</th>\n",
       "      <td>Master</td>\n",
       "      <td>0.575000</td>\n",
       "    </tr>\n",
       "    <tr>\n",
       "      <th>4</th>\n",
       "      <td>Don</td>\n",
       "      <td>0.000000</td>\n",
       "    </tr>\n",
       "    <tr>\n",
       "      <th>5</th>\n",
       "      <td>Rev</td>\n",
       "      <td>0.000000</td>\n",
       "    </tr>\n",
       "    <tr>\n",
       "      <th>6</th>\n",
       "      <td>Dr</td>\n",
       "      <td>0.428571</td>\n",
       "    </tr>\n",
       "    <tr>\n",
       "      <th>7</th>\n",
       "      <td>Mme</td>\n",
       "      <td>1.000000</td>\n",
       "    </tr>\n",
       "    <tr>\n",
       "      <th>8</th>\n",
       "      <td>Ms</td>\n",
       "      <td>1.000000</td>\n",
       "    </tr>\n",
       "    <tr>\n",
       "      <th>9</th>\n",
       "      <td>Major</td>\n",
       "      <td>0.500000</td>\n",
       "    </tr>\n",
       "    <tr>\n",
       "      <th>10</th>\n",
       "      <td>Lady</td>\n",
       "      <td>1.000000</td>\n",
       "    </tr>\n",
       "    <tr>\n",
       "      <th>11</th>\n",
       "      <td>Sir</td>\n",
       "      <td>1.000000</td>\n",
       "    </tr>\n",
       "    <tr>\n",
       "      <th>12</th>\n",
       "      <td>Mlle</td>\n",
       "      <td>1.000000</td>\n",
       "    </tr>\n",
       "    <tr>\n",
       "      <th>13</th>\n",
       "      <td>Col</td>\n",
       "      <td>0.500000</td>\n",
       "    </tr>\n",
       "    <tr>\n",
       "      <th>14</th>\n",
       "      <td>Capt</td>\n",
       "      <td>0.000000</td>\n",
       "    </tr>\n",
       "    <tr>\n",
       "      <th>15</th>\n",
       "      <td>Countess</td>\n",
       "      <td>1.000000</td>\n",
       "    </tr>\n",
       "    <tr>\n",
       "      <th>16</th>\n",
       "      <td>Jonkheer</td>\n",
       "      <td>0.000000</td>\n",
       "    </tr>\n",
       "  </tbody>\n",
       "</table>\n",
       "</div>"
      ],
      "text/plain": [
       "           0         1\n",
       "0         Mr  0.156673\n",
       "1        Mrs  0.792000\n",
       "2       Miss  0.697802\n",
       "3     Master  0.575000\n",
       "4        Don  0.000000\n",
       "5        Rev  0.000000\n",
       "6         Dr  0.428571\n",
       "7        Mme  1.000000\n",
       "8         Ms  1.000000\n",
       "9      Major  0.500000\n",
       "10      Lady  1.000000\n",
       "11       Sir  1.000000\n",
       "12      Mlle  1.000000\n",
       "13       Col  0.500000\n",
       "14      Capt  0.000000\n",
       "15  Countess  1.000000\n",
       "16  Jonkheer  0.000000"
      ]
     },
     "execution_count": 39,
     "metadata": {},
     "output_type": "execute_result"
    }
   ],
   "source": [
    "#show the new dataframe SR_df here\n",
    "SR_df"
   ]
  },
  {
   "cell_type": "code",
   "execution_count": null,
   "metadata": {
    "id": "cxczSuKiPr5u"
   },
   "outputs": [],
   "source": []
  },
  {
   "cell_type": "markdown",
   "metadata": {
    "id": "Olnh97qqO-tZ"
   },
   "source": [
    "- use SR_df to plot a bar graph for survival rate vs Title"
   ]
  },
  {
   "cell_type": "code",
   "execution_count": 40,
   "metadata": {
    "id": "QYmrVku9MPdT"
   },
   "outputs": [
    {
     "data": {
      "image/png": "[encoded data removed]",
      "text/plain": [
       "<Figure size 720x360 with 1 Axes>"
      ]
     },
     "metadata": {
      "needs_background": "light"
     },
     "output_type": "display_data"
    }
   ],
   "source": [
    "#write code here\n",
    "titles = SR_df[0]\n",
    "survival_rate = SR_df[1]\n",
    "\n",
    "fig = plt.figure(figsize = (10, 5))\n",
    " \n",
    "plt.bar(titles, survival_rate, color ='maroon',\n",
    "        width = 0.4)\n",
    " \n",
    "plt.xlabel(\"Title\")\n",
    "plt.ylabel(\"Survival Rate\")\n",
    "plt.title(\"Survival Rates for different titles\")\n",
    "plt.show()"
   ]
  },
  {
   "cell_type": "markdown",
   "metadata": {
    "id": "xrIVW_mHQPJX"
   },
   "source": [
    "This brings us to the end of EDA. <br>\n",
    "You may feel free to do more exploratry analysis.<br>\n",
    "The aim of this notebook is not to point out every small detail but to give you an overview and guide you"
   ]
  },
  {
   "cell_type": "code",
   "execution_count": null,
   "metadata": {
    "id": "qzpcPY_vRfNM"
   },
   "outputs": [],
   "source": []
  },
  {
   "cell_type": "markdown",
   "metadata": {
    "id": "2tImb-hXsXmI"
   },
   "source": [
    "## 4. Data Visualization"
   ]
  },
  {
   "cell_type": "markdown",
   "metadata": {
    "id": "ah1dARlJsddI"
   },
   "source": [
    "- Make a pie chart to show the number of people who survived and number of people who did not\n",
    "- Make a pie chart to show the number of <b>Males</b> who survived and number of people who did not\n",
    "- Make a pie chart to show the number of <b>Females</b> who survived and number of people who did not\n",
    "<br><br>\n",
    "Note that all three charts must be visible in a single row (look into subplots)"
   ]
  },
  {
   "cell_type": "code",
   "execution_count": 65,
   "metadata": {
    "id": "gaZyWEN5sXP6"
   },
   "outputs": [
    {
     "name": "stdout",
     "output_type": "stream",
     "text": [
      "[233, 109]\n",
      "[549, 342]\n"
     ]
    },
    {
     "data": {
      "image/png": "[encoded data removed]",
      "text/plain": [
       "<Figure size 432x288 with 3 Axes>"
      ]
     },
     "metadata": {},
     "output_type": "display_data"
    }
   ],
   "source": [
    "#write code here\n",
    "survived_count = train_df.groupby('Survived')['Survived'].count()\n",
    "survived_sex = train_df.groupby('Sex')['Survived'].sum()\n",
    "\n",
    "ss= list(survived_sex)\n",
    "sc = list(survived_count)\n",
    "\n",
    "print(ss)\n",
    "print(sc)\n",
    "\n",
    "plt.subplot(1,3,1)\n",
    "plt.pie(x = [len(train_df[train_df.Survived == 1]) , len(train_df.Survived == 0)],autopct = '%1.1f%%', labels=[\"Not Survived\", \"Survived\"])\n",
    "plt.subplot(1,3,2)\n",
    "plt.pie(x = [len(train_df[(train_df.Survived == 1)&(train_df.Sex == \"male\")]) ,\n",
    "             len(train_df[(train_df.Survived == 1)&(train_df.Sex == \"female\")])] ,autopct = '%1.1f%%', labels=[\"Males Survived\",\"Total Survived\"])\n",
    "plt.subplot(1,3,3)\n",
    "plt.pie(x = [len(train_df[(train_df.Survived == 1)&(train_df.Sex == \"female\")]) ,\n",
    "             len(train_df[(train_df.Survived == 1)&(train_df.Sex == \"male\")])],autopct = '%1.1f%%', labels=[\"Females Survived\",\"Total Survived\"])\n",
    "plt.show()"
   ]
  },
  {
   "cell_type": "code",
   "execution_count": null,
   "metadata": {},
   "outputs": [],
   "source": []
  },
  {
   "cell_type": "markdown",
   "metadata": {
    "id": "uYSmxfqEsjGo"
   },
   "source": [
    "- Find if money affected survival rate (fare and Pclass) \n",
    " - Make a bar graph showing Pclass vs survival rate\n",
    " - Make a KDE plot (use the sns library) and plot Fare based on the Survival (google away for this one)"
   ]
  },
  {
   "cell_type": "code",
   "execution_count": 42,
   "metadata": {
    "id": "l3YP8H18si4G"
   },
   "outputs": [
    {
     "name": "stdout",
     "output_type": "stream",
     "text": [
      "3 : 0.24236252545824846\n",
      "1 : 0.6296296296296297\n",
      "2 : 0.47282608695652173\n"
     ]
    },
    {
     "data": {
      "image/png": "[encoded data removed]",
      "text/plain": [
       "<Figure size 720x360 with 1 Axes>"
      ]
     },
     "metadata": {
      "needs_background": "light"
     },
     "output_type": "display_data"
    }
   ],
   "source": [
    "pclasses = train_df[\"Pclass\"].unique()\n",
    "num_survived = train_df.groupby('Pclass')['Survived'].sum()\n",
    "total = train_df[\"Pclass\"].value_counts()\n",
    "\n",
    "\n",
    "dic={}\n",
    "\n",
    "for i in pclasses :\n",
    "  count=k=0\n",
    "  num_sur =0\n",
    "  for j in train_df['Pclass']:\n",
    "    if j==i :\n",
    "      count +=1\n",
    "      if train_df.at[k,\"Survived\"]==1:\n",
    "        num_sur+=1\n",
    "    k+=1\n",
    "  dic[i]= num_sur/count\n",
    "\n",
    "for key, value in dic.items():\n",
    "  print(key, \":\", value)\n",
    "\n",
    "C_df = pd.DataFrame(list(dic.items()))\n",
    "\n",
    "pclasses = C_df[0]\n",
    "survival_rate = C_df[1]\n",
    "\n",
    "fig = plt.figure(figsize = (10, 5))\n",
    " \n",
    "plt.bar(pclasses, survival_rate, color ='maroon',\n",
    "        width = 0.4)\n",
    " \n",
    "plt.xlabel(\"Pclass\")\n",
    "plt.ylabel(\"Survival Rate\")\n",
    "plt.title(\"Survival Rates for different Classes\")\n",
    "plt.show()"
   ]
  },
  {
   "cell_type": "code",
   "execution_count": 43,
   "metadata": {
    "id": "ekU_aa0Wsn6T"
   },
   "outputs": [
    {
     "name": "stdout",
     "output_type": "stream",
     "text": [
      "7.25 : 0.07692307692307693\n",
      "71.2833 : 1.0\n",
      "7.925 : 0.4444444444444444\n",
      "53.1 : 0.6\n",
      "8.05 : 0.11627906976744186\n",
      "8.4583 : 0.0\n",
      "51.8625 : 0.5\n",
      "21.075 : 0.0\n",
      "11.1333 : 1.0\n",
      "30.0708 : 0.5\n",
      "16.7 : 1.0\n",
      "26.55 : 0.5333333333333333\n",
      "31.275 : 0.0\n",
      "7.8542 : 0.23076923076923078\n",
      "16.0 : 1.0\n",
      "29.125 : 0.0\n",
      "13.0 : 0.38095238095238093\n",
      "18.0 : 0.0\n",
      "7.225 : 0.25\n",
      "26.0 : 0.4838709677419355\n",
      "8.0292 : 1.0\n",
      "35.5 : 0.75\n",
      "31.3875 : 0.75\n",
      "263.0 : 0.5\n",
      "7.8792 : 1.0\n",
      "7.8958 : 0.02631578947368421\n",
      "27.7208 : 0.2\n",
      "146.5208 : 1.0\n",
      "7.75 : 0.35294117647058826\n",
      "10.5 : 0.375\n",
      "82.1708 : 0.5\n",
      "52.0 : 0.42857142857142855\n",
      "7.2292 : 0.26666666666666666\n",
      "11.2417 : 1.0\n",
      "9.475 : 0.0\n",
      "21.0 : 0.3333333333333333\n",
      "41.5792 : 0.6666666666666666\n",
      "15.5 : 0.375\n",
      "21.6792 : 0.0\n",
      "17.8 : 0.0\n",
      "39.6875 : 0.0\n",
      "7.8 : 0.0\n",
      "76.7292 : 1.0\n",
      "61.9792 : 0.0\n",
      "27.75 : 0.5\n",
      "46.9 : 0.0\n",
      "80.0 : 1.0\n",
      "83.475 : 0.5\n",
      "27.9 : 0.0\n",
      "15.2458 : 0.6\n",
      "8.1583 : 0.0\n",
      "8.6625 : 0.07692307692307693\n",
      "73.5 : 0.0\n",
      "14.4542 : 0.14285714285714285\n",
      "56.4958 : 0.7142857142857143\n",
      "7.65 : 0.25\n",
      "29.0 : 1.0\n",
      "12.475 : 1.0\n",
      "9.0 : 0.0\n",
      "9.5 : 0.2222222222222222\n",
      "7.7875 : 1.0\n",
      "47.1 : 0.0\n",
      "15.85 : 0.5\n",
      "34.375 : 0.0\n",
      "61.175 : 0.0\n",
      "20.575 : 0.5\n",
      "34.6542 : 0.0\n",
      "63.3583 : 1.0\n",
      "23.0 : 1.0\n",
      "77.2875 : 0.0\n",
      "8.6542 : 0.0\n",
      "7.775 : 0.1875\n",
      "24.15 : 0.125\n",
      "9.825 : 0.0\n",
      "14.4583 : 0.0\n",
      "247.5208 : 0.5\n",
      "7.1417 : 1.0\n",
      "22.3583 : 1.0\n",
      "6.975 : 0.5\n",
      "7.05 : 0.0\n",
      "14.5 : 0.2857142857142857\n",
      "15.0458 : 0.0\n",
      "26.2833 : 1.0\n",
      "9.2167 : 0.0\n",
      "79.2 : 0.5\n",
      "6.75 : 0.0\n",
      "11.5 : 0.0\n",
      "36.75 : 0.5\n",
      "7.7958 : 0.3333333333333333\n",
      "12.525 : 0.0\n",
      "66.6 : 0.5\n",
      "7.3125 : 0.0\n",
      "61.3792 : 0.0\n",
      "7.7333 : 0.5\n",
      "69.55 : 0.0\n",
      "16.1 : 0.2222222222222222\n",
      "15.75 : 1.0\n",
      "20.525 : 0.6666666666666666\n",
      "55.0 : 1.0\n",
      "25.925 : 0.0\n",
      "33.5 : 0.0\n",
      "30.6958 : 0.0\n",
      "25.4667 : 0.0\n",
      "28.7125 : 0.0\n",
      "0.0 : 0.06666666666666667\n",
      "15.05 : 0.0\n",
      "39.0 : 0.75\n",
      "22.025 : 1.0\n",
      "50.0 : 0.0\n",
      "8.4042 : 0.0\n",
      "6.4958 : 0.0\n",
      "10.4625 : 0.0\n",
      "18.7875 : 0.5\n",
      "31.0 : 0.6666666666666666\n",
      "113.275 : 0.6666666666666666\n",
      "27.0 : 0.5\n",
      "76.2917 : 1.0\n",
      "90.0 : 0.75\n",
      "9.35 : 0.5\n",
      "13.5 : 0.25\n",
      "7.55 : 0.25\n",
      "26.25 : 0.6666666666666666\n",
      "12.275 : 0.0\n",
      "7.125 : 0.0\n",
      "52.5542 : 1.0\n",
      "20.2125 : 0.0\n",
      "86.5 : 1.0\n",
      "512.3292 : 1.0\n",
      "79.65 : 0.6666666666666666\n",
      "153.4625 : 0.6666666666666666\n",
      "135.6333 : 0.6666666666666666\n",
      "19.5 : 1.0\n",
      "29.7 : 0.3333333333333333\n",
      "77.9583 : 1.0\n",
      "20.25 : 0.5\n",
      "78.85 : 0.5\n",
      "91.0792 : 1.0\n",
      "12.875 : 0.0\n",
      "8.85 : 0.0\n",
      "151.55 : 0.5\n",
      "30.5 : 0.8\n",
      "23.25 : 1.0\n",
      "12.35 : 0.6666666666666666\n",
      "110.8833 : 0.75\n",
      "108.9 : 0.5\n",
      "24.0 : 0.5\n",
      "56.9292 : 1.0\n",
      "83.1583 : 1.0\n",
      "262.375 : 1.0\n",
      "14.0 : 0.0\n",
      "164.8667 : 1.0\n",
      "134.5 : 1.0\n",
      "6.2375 : 0.0\n",
      "57.9792 : 1.0\n",
      "28.5 : 0.0\n",
      "133.65 : 1.0\n",
      "15.9 : 1.0\n",
      "9.225 : 0.0\n",
      "35.0 : 0.0\n",
      "75.25 : 1.0\n",
      "69.3 : 1.0\n",
      "55.4417 : 1.0\n",
      "211.5 : 0.0\n",
      "4.0125 : 0.0\n",
      "227.525 : 0.75\n",
      "15.7417 : 1.0\n",
      "7.7292 : 0.0\n",
      "12.0 : 1.0\n",
      "120.0 : 1.0\n",
      "12.65 : 1.0\n",
      "18.75 : 1.0\n",
      "6.8583 : 0.0\n",
      "32.5 : 1.0\n",
      "7.875 : 0.0\n",
      "14.4 : 0.0\n",
      "55.9 : 0.5\n",
      "8.1125 : 1.0\n",
      "81.8583 : 1.0\n",
      "19.2583 : 1.0\n",
      "19.9667 : 0.0\n",
      "89.1042 : 1.0\n",
      "38.5 : 0.0\n",
      "7.725 : 0.0\n",
      "13.7917 : 1.0\n",
      "9.8375 : 0.0\n",
      "7.0458 : 0.0\n",
      "7.5208 : 0.0\n",
      "12.2875 : 1.0\n",
      "9.5875 : 0.5\n",
      "49.5042 : 0.5\n",
      "78.2667 : 1.0\n",
      "15.1 : 0.0\n",
      "7.6292 : 0.0\n",
      "22.525 : 0.0\n",
      "26.2875 : 1.0\n",
      "59.4 : 1.0\n",
      "7.4958 : 0.3333333333333333\n",
      "34.0208 : 0.0\n",
      "93.5 : 1.0\n",
      "221.7792 : 0.0\n",
      "106.425 : 0.5\n",
      "49.5 : 1.0\n",
      "71.0 : 0.5\n",
      "13.8625 : 1.0\n",
      "7.8292 : 0.5\n",
      "39.6 : 0.5\n",
      "17.4 : 1.0\n",
      "51.4792 : 1.0\n",
      "26.3875 : 1.0\n",
      "30.0 : 0.8333333333333334\n",
      "40.125 : 0.0\n",
      "8.7125 : 0.0\n",
      "15.0 : 0.0\n",
      "33.0 : 0.6666666666666666\n",
      "42.4 : 0.0\n",
      "15.55 : 0.0\n",
      "65.0 : 1.0\n",
      "32.3208 : 0.0\n",
      "7.0542 : 0.0\n",
      "8.4333 : 0.0\n",
      "25.5875 : 0.0\n",
      "9.8417 : 1.0\n",
      "8.1375 : 0.0\n",
      "10.1708 : 0.0\n",
      "211.3375 : 1.0\n",
      "57.0 : 1.0\n",
      "13.4167 : 1.0\n",
      "7.7417 : 0.0\n",
      "9.4833 : 0.0\n",
      "7.7375 : 0.5\n",
      "8.3625 : 0.0\n",
      "23.45 : 0.0\n",
      "25.9292 : 1.0\n",
      "8.6833 : 1.0\n",
      "8.5167 : 1.0\n",
      "7.8875 : 0.0\n",
      "37.0042 : 0.5\n",
      "6.45 : 0.0\n",
      "6.95 : 0.0\n",
      "8.3 : 0.0\n",
      "6.4375 : 0.0\n",
      "39.4 : 1.0\n",
      "14.1083 : 0.0\n",
      "13.8583 : 1.0\n",
      "50.4958 : 0.0\n",
      "5.0 : 0.0\n",
      "9.8458 : 0.0\n",
      "10.5167 : 0.0\n"
     ]
    }
   ],
   "source": [
    "import seaborn as sns\n",
    "\n",
    "fares = train_df[\"Fare\"].unique()\n",
    "num_survived = train_df.groupby('Fare')['Survived'].sum()\n",
    "total = train_df[\"Fare\"].value_counts()\n",
    "\n",
    "# unique= train_df.Title.unique()\n",
    "dic={}   \n",
    "\n",
    "for i in fares :\n",
    "  count=k=0\n",
    "  num_sur =0\n",
    "  for j in train_df['Fare']:\n",
    "    if j==i :\n",
    "      count +=1\n",
    "      if train_df.at[k,\"Survived\"]==1:\n",
    "        num_sur+=1\n",
    "    k+=1\n",
    "  dic[i]= num_sur/count\n",
    "\n",
    "for key, value in dic.items():\n",
    "  print(key, \":\", value)\n",
    "\n",
    "F_df = pd.DataFrame(list(dic.items()))\n",
    "  \n"
   ]
  },
  {
   "cell_type": "markdown",
   "metadata": {
    "id": "NzSBvjqdRfiM"
   },
   "source": [
    "## 5. Preprocessing\n",
    "preprocessing is a very important step before we step into modelling"
   ]
  },
  {
   "cell_type": "markdown",
   "metadata": {
    "id": "1_HLgWAZTD-2"
   },
   "source": [
    " - when we added the Title column in the datadframe, we did preprocessing on the existing data to extract relevant information. As we also tried to explore and understand the data using survival rate, we saw it under EDA."
   ]
  },
  {
   "cell_type": "markdown",
   "metadata": {
    "id": "V-eJsxXrTuBJ"
   },
   "source": [
    "### 5.a. Removing unnecessary columns"
   ]
  },
  {
   "cell_type": "markdown",
   "metadata": {
    "id": "ij1QOguUT7nO"
   },
   "source": [
    " - The columns PassengerId and Ticket play no logical role in being related to the survival of a passenger. Hence we will remove them.\n",
    " - We will also remove the Name column as we have done <b>feature extraction</b> and obtained titles instead. (test set might have extra titles which are not in the train set. Think about how we would consider them. This however doesn't affect task 1's objective)"
   ]
  },
  {
   "cell_type": "code",
   "execution_count": 46,
   "metadata": {
    "id": "lpLKo4YgMSKA"
   },
   "outputs": [],
   "source": [
    "#write code to remove unnecessary columns from the dataframe here\n",
    "train_df.drop(columns=[\"PassengerId\",\"Ticket\"], axis=1, inplace=True)"
   ]
  },
  {
   "cell_type": "code",
   "execution_count": 47,
   "metadata": {
    "id": "IwARq2gEaoYK"
   },
   "outputs": [],
   "source": [
    "train_df.drop(columns=[\"Name\"],  axis=1, inplace=True)"
   ]
  },
  {
   "cell_type": "markdown",
   "metadata": {
    "id": "63jou6PJaoqp"
   },
   "source": [
    "### 5.b. Nan analysis"
   ]
  },
  {
   "cell_type": "markdown",
   "metadata": {
    "id": "qh6_TT42ay-x"
   },
   "source": [
    " - write code to find the percentage of Nans in each column and visualize it in a tabular format"
   ]
  },
  {
   "cell_type": "code",
   "execution_count": 48,
   "metadata": {
    "id": "F0V-qmTDUMAx"
   },
   "outputs": [
    {
     "data": {
      "text/html": [
       "<div>\n",
       "<style scoped>\n",
       "    .dataframe tbody tr th:only-of-type {\n",
       "        vertical-align: middle;\n",
       "    }\n",
       "\n",
       "    .dataframe tbody tr th {\n",
       "        vertical-align: top;\n",
       "    }\n",
       "\n",
       "    .dataframe thead th {\n",
       "        text-align: right;\n",
       "    }\n",
       "</style>\n",
       "<table border=\"1\" class=\"dataframe\">\n",
       "  <thead>\n",
       "    <tr style=\"text-align: right;\">\n",
       "      <th></th>\n",
       "      <th>Column</th>\n",
       "      <th>nan_percentage</th>\n",
       "    </tr>\n",
       "  </thead>\n",
       "  <tbody>\n",
       "    <tr>\n",
       "      <th>0</th>\n",
       "      <td>Survived</td>\n",
       "      <td>0.000000</td>\n",
       "    </tr>\n",
       "    <tr>\n",
       "      <th>1</th>\n",
       "      <td>Pclass</td>\n",
       "      <td>0.000000</td>\n",
       "    </tr>\n",
       "    <tr>\n",
       "      <th>2</th>\n",
       "      <td>Name</td>\n",
       "      <td>0.000000</td>\n",
       "    </tr>\n",
       "    <tr>\n",
       "      <th>3</th>\n",
       "      <td>Sex</td>\n",
       "      <td>0.000000</td>\n",
       "    </tr>\n",
       "    <tr>\n",
       "      <th>4</th>\n",
       "      <td>Age</td>\n",
       "      <td>19.865320</td>\n",
       "    </tr>\n",
       "    <tr>\n",
       "      <th>5</th>\n",
       "      <td>SibSp</td>\n",
       "      <td>0.000000</td>\n",
       "    </tr>\n",
       "    <tr>\n",
       "      <th>6</th>\n",
       "      <td>Parch</td>\n",
       "      <td>0.000000</td>\n",
       "    </tr>\n",
       "    <tr>\n",
       "      <th>7</th>\n",
       "      <td>Fare</td>\n",
       "      <td>0.000000</td>\n",
       "    </tr>\n",
       "    <tr>\n",
       "      <th>8</th>\n",
       "      <td>Cabin</td>\n",
       "      <td>77.104377</td>\n",
       "    </tr>\n",
       "    <tr>\n",
       "      <th>9</th>\n",
       "      <td>Embarked</td>\n",
       "      <td>0.224467</td>\n",
       "    </tr>\n",
       "    <tr>\n",
       "      <th>10</th>\n",
       "      <td>Title</td>\n",
       "      <td>0.000000</td>\n",
       "    </tr>\n",
       "  </tbody>\n",
       "</table>\n",
       "</div>"
      ],
      "text/plain": [
       "      Column  nan_percentage\n",
       "0   Survived        0.000000\n",
       "1     Pclass        0.000000\n",
       "2       Name        0.000000\n",
       "3        Sex        0.000000\n",
       "4        Age       19.865320\n",
       "5      SibSp        0.000000\n",
       "6      Parch        0.000000\n",
       "7       Fare        0.000000\n",
       "8      Cabin       77.104377\n",
       "9   Embarked        0.224467\n",
       "10     Title        0.000000"
      ]
     },
     "execution_count": 48,
     "metadata": {},
     "output_type": "execute_result"
    }
   ],
   "source": [
    "#write code here\n",
    "# percent_missing = train_df.isnull().sum() * 100 / len(train_df)\n",
    "# percent_missing\n",
    "\n",
    "df_nan = pd.DataFrame()\n",
    "\n",
    "nan_dict = {}\n",
    "for i in train_df.columns:\n",
    "  nan_dict[i] = (train_df[i].isnull().sum()/len(train_df))*100\n",
    "\n",
    "df_nan[\"Column\"] = nan_dict.keys()\n",
    "df_nan[\"nan_percentage\"] = nan_dict.values() \n",
    "df_nan\n",
    "\n",
    "df_nan\n"
   ]
  },
  {
   "cell_type": "markdown",
   "metadata": {
    "id": "2mqclVHla_ey"
   },
   "source": [
    " - remove any column having more than 50% Nans as they would be of no use"
   ]
  },
  {
   "cell_type": "code",
   "execution_count": 49,
   "metadata": {
    "id": "wN6LpxsKa-Zi"
   },
   "outputs": [],
   "source": [
    "# write code here\n",
    "train_df.drop([\"Cabin\"], axis=1, inplace=True)"
   ]
  },
  {
   "cell_type": "markdown",
   "metadata": {
    "id": "YfPIbLBkbU8C"
   },
   "source": [
    " - Fill Nans in the Embark column with the statistical mode\n",
    " - Fill Nans in the Age column with it's statistical mean"
   ]
  },
  {
   "cell_type": "code",
   "execution_count": 50,
   "metadata": {
    "id": "ht5Uxpb6a9SA"
   },
   "outputs": [],
   "source": [
    "#write code here\n",
    "embarked_mean = train_df[\"Embarked\"].mode()[0]\n",
    "train_df['Embarked'].fillna(embarked_mean, inplace=True)\n",
    "\n",
    "age_mean = train_df[\"Age\"].mean()\n",
    "train_df[\"Age\"].fillna(age_mean, inplace=True)"
   ]
  },
  {
   "cell_type": "markdown",
   "metadata": {
    "id": "ldZ-7Knyc7r1"
   },
   "source": [
    " - show the new Nan percentage vs column name table after filling and removing to make sure there are no Nans"
   ]
  },
  {
   "cell_type": "code",
   "execution_count": 51,
   "metadata": {
    "id": "qalNu0Gvc6ih"
   },
   "outputs": [
    {
     "data": {
      "text/plain": [
       "Survived    0.0\n",
       "Pclass      0.0\n",
       "Name        0.0\n",
       "Sex         0.0\n",
       "Age         0.0\n",
       "SibSp       0.0\n",
       "Parch       0.0\n",
       "Fare        0.0\n",
       "Embarked    0.0\n",
       "Title       0.0\n",
       "dtype: float64"
      ]
     },
     "execution_count": 51,
     "metadata": {},
     "output_type": "execute_result"
    }
   ],
   "source": [
    "#write code here\n",
    "percent_missing = train_df.isnull().sum() * 100 / len(train_df)\n",
    "percent_missing"
   ]
  },
  {
   "cell_type": "code",
   "execution_count": null,
   "metadata": {
    "id": "_aeWd33AepZi"
   },
   "outputs": [],
   "source": []
  },
  {
   "cell_type": "markdown",
   "metadata": {
    "id": "EQKtPBSSgUpN"
   },
   "source": [
    "### 5.c. Adding features to the dataset"
   ]
  },
  {
   "cell_type": "markdown",
   "metadata": {
    "id": "daJuxRs4gcH9"
   },
   "source": [
    " - Read the kaggle link (titanic dataset) provided above and see what the two columns SibSP and Parch signify\n",
    " - Using that create a new column called <B>Family_members</b>\n",
    " - Fill it with the sum of SibSP and Parch"
   ]
  },
  {
   "cell_type": "code",
   "execution_count": 52,
   "metadata": {
    "id": "IZF7_Jfagbd_"
   },
   "outputs": [
    {
     "name": "stdout",
     "output_type": "stream",
     "text": [
      "     Survived  Pclass                                               Name  \\\n",
      "0           0       3                            Braund, Mr. Owen Harris   \n",
      "1           1       1  Cumings, Mrs. John Bradley (Florence Briggs Th...   \n",
      "2           1       3                             Heikkinen, Miss. Laina   \n",
      "3           1       1       Futrelle, Mrs. Jacques Heath (Lily May Peel)   \n",
      "4           0       3                           Allen, Mr. William Henry   \n",
      "..        ...     ...                                                ...   \n",
      "886         0       2                              Montvila, Rev. Juozas   \n",
      "887         1       1                       Graham, Miss. Margaret Edith   \n",
      "888         0       3           Johnston, Miss. Catherine Helen \"Carrie\"   \n",
      "889         1       1                              Behr, Mr. Karl Howell   \n",
      "890         0       3                                Dooley, Mr. Patrick   \n",
      "\n",
      "        Sex        Age  SibSp  Parch     Fare Embarked Title  Family_Members  \n",
      "0      male  22.000000      1      0   7.2500        S    Mr               1  \n",
      "1    female  38.000000      1      0  71.2833        C   Mrs               1  \n",
      "2    female  26.000000      0      0   7.9250        S  Miss               0  \n",
      "3    female  35.000000      1      0  53.1000        S   Mrs               1  \n",
      "4      male  35.000000      0      0   8.0500        S    Mr               0  \n",
      "..      ...        ...    ...    ...      ...      ...   ...             ...  \n",
      "886    male  27.000000      0      0  13.0000        S   Rev               0  \n",
      "887  female  19.000000      0      0  30.0000        S  Miss               0  \n",
      "888  female  29.699118      1      2  23.4500        S  Miss               3  \n",
      "889    male  26.000000      0      0  30.0000        C    Mr               0  \n",
      "890    male  32.000000      0      0   7.7500        Q    Mr               0  \n",
      "\n",
      "[891 rows x 11 columns]\n"
     ]
    }
   ],
   "source": [
    "#write code here\n",
    "\n",
    "# train_df[\"Family_members\"] = train_df[\"SibSp\"] + train_df[\"Parch\"]\n",
    "sum_column = train_df['SibSp'] + train_df['Parch']\n",
    "train_df['Family_Members'] = sum_column\n",
    "print(train_df)\n"
   ]
  },
  {
   "cell_type": "markdown",
   "metadata": {
    "id": "1jrABHyphdWg"
   },
   "source": [
    " - Now you may remove the two columns SibSP and Parch<br>\n",
    " It is important to remove them because they introduce multicollinearity in our dataset now as the new column Family_members is directly dependent on them.<br>\n",
    " Multicollinearity is deadly to linear models that we will look into later"
   ]
  },
  {
   "cell_type": "code",
   "execution_count": 53,
   "metadata": {
    "id": "aPf3p6WChc3g"
   },
   "outputs": [],
   "source": [
    "#write code here\\\n",
    "\n",
    "train_df.drop([\"SibSp\", \"Parch\"], axis=1, inplace=True)\n",
    "\n"
   ]
  },
  {
   "cell_type": "code",
   "execution_count": null,
   "metadata": {
    "id": "ZoC97Umai-vg"
   },
   "outputs": [],
   "source": []
  },
  {
   "cell_type": "markdown",
   "metadata": {
    "id": "Az401HQIi8FR"
   },
   "source": [
    "### 5.d. Scaling and Normalization\n",
    "we don't want to give undue advantage to a few columns (when training models), just because they have a numeric data that is larger in magnitude.<br>\n",
    "Therefore we scale all values down to a specific range or distribution\n",
    "<br>"
   ]
  },
  {
   "cell_type": "markdown",
   "metadata": {
    "id": "8uXii3c6jx-4"
   },
   "source": [
    " - Columns to apply scaling on\n",
    "  - Age\n",
    "  - Fare\n",
    "  - Family_members\n",
    "\n",
    "- Although Pclass column is numeric, it contains classification data (only 1, 2 and 3). Therefore only continuous data like age, fare, etc needs to be normalized"
   ]
  },
  {
   "cell_type": "markdown",
   "metadata": {
    "id": "NwDqNCcrlYtR"
   },
   "source": [
    " - Read about standardization and normalization in this link https://www.geeksforgeeks.org/normalization-vs-standardization/\n",
    " - apply the formulas given in the link above and scale/normalize the features that are supposed to be scaled\n",
    " - It is your choice to choose wether you choose to normalize or standardize a column. You will be able to make your choice after reading the link contents.\n",
    " - If you feel confused with the choice, then you can go ahead and directly normalize."
   ]
  },
  {
   "cell_type": "code",
   "execution_count": 56,
   "metadata": {
    "id": "9LzoSA42h_wv"
   },
   "outputs": [
    {
     "data": {
      "text/html": [
       "<div>\n",
       "<style scoped>\n",
       "    .dataframe tbody tr th:only-of-type {\n",
       "        vertical-align: middle;\n",
       "    }\n",
       "\n",
       "    .dataframe tbody tr th {\n",
       "        vertical-align: top;\n",
       "    }\n",
       "\n",
       "    .dataframe thead th {\n",
       "        text-align: right;\n",
       "    }\n",
       "</style>\n",
       "<table border=\"1\" class=\"dataframe\">\n",
       "  <thead>\n",
       "    <tr style=\"text-align: right;\">\n",
       "      <th></th>\n",
       "      <th>Survived</th>\n",
       "      <th>Pclass</th>\n",
       "      <th>Name</th>\n",
       "      <th>Sex</th>\n",
       "      <th>Age</th>\n",
       "      <th>Fare</th>\n",
       "      <th>Embarked</th>\n",
       "      <th>Title</th>\n",
       "      <th>Family_Members</th>\n",
       "    </tr>\n",
       "  </thead>\n",
       "  <tbody>\n",
       "    <tr>\n",
       "      <th>0</th>\n",
       "      <td>0</td>\n",
       "      <td>3</td>\n",
       "      <td>Braund, Mr. Owen Harris</td>\n",
       "      <td>male</td>\n",
       "      <td>0.271174</td>\n",
       "      <td>0.014151</td>\n",
       "      <td>S</td>\n",
       "      <td>Mr</td>\n",
       "      <td>0.1</td>\n",
       "    </tr>\n",
       "    <tr>\n",
       "      <th>1</th>\n",
       "      <td>1</td>\n",
       "      <td>1</td>\n",
       "      <td>Cumings, Mrs. John Bradley (Florence Briggs Th...</td>\n",
       "      <td>female</td>\n",
       "      <td>0.472229</td>\n",
       "      <td>0.139136</td>\n",
       "      <td>C</td>\n",
       "      <td>Mrs</td>\n",
       "      <td>0.1</td>\n",
       "    </tr>\n",
       "    <tr>\n",
       "      <th>2</th>\n",
       "      <td>1</td>\n",
       "      <td>3</td>\n",
       "      <td>Heikkinen, Miss. Laina</td>\n",
       "      <td>female</td>\n",
       "      <td>0.321438</td>\n",
       "      <td>0.015469</td>\n",
       "      <td>S</td>\n",
       "      <td>Miss</td>\n",
       "      <td>0.0</td>\n",
       "    </tr>\n",
       "    <tr>\n",
       "      <th>3</th>\n",
       "      <td>1</td>\n",
       "      <td>1</td>\n",
       "      <td>Futrelle, Mrs. Jacques Heath (Lily May Peel)</td>\n",
       "      <td>female</td>\n",
       "      <td>0.434531</td>\n",
       "      <td>0.103644</td>\n",
       "      <td>S</td>\n",
       "      <td>Mrs</td>\n",
       "      <td>0.1</td>\n",
       "    </tr>\n",
       "    <tr>\n",
       "      <th>4</th>\n",
       "      <td>0</td>\n",
       "      <td>3</td>\n",
       "      <td>Allen, Mr. William Henry</td>\n",
       "      <td>male</td>\n",
       "      <td>0.434531</td>\n",
       "      <td>0.015713</td>\n",
       "      <td>S</td>\n",
       "      <td>Mr</td>\n",
       "      <td>0.0</td>\n",
       "    </tr>\n",
       "    <tr>\n",
       "      <th>...</th>\n",
       "      <td>...</td>\n",
       "      <td>...</td>\n",
       "      <td>...</td>\n",
       "      <td>...</td>\n",
       "      <td>...</td>\n",
       "      <td>...</td>\n",
       "      <td>...</td>\n",
       "      <td>...</td>\n",
       "      <td>...</td>\n",
       "    </tr>\n",
       "    <tr>\n",
       "      <th>886</th>\n",
       "      <td>0</td>\n",
       "      <td>2</td>\n",
       "      <td>Montvila, Rev. Juozas</td>\n",
       "      <td>male</td>\n",
       "      <td>0.334004</td>\n",
       "      <td>0.025374</td>\n",
       "      <td>S</td>\n",
       "      <td>Rev</td>\n",
       "      <td>0.0</td>\n",
       "    </tr>\n",
       "    <tr>\n",
       "      <th>887</th>\n",
       "      <td>1</td>\n",
       "      <td>1</td>\n",
       "      <td>Graham, Miss. Margaret Edith</td>\n",
       "      <td>female</td>\n",
       "      <td>0.233476</td>\n",
       "      <td>0.058556</td>\n",
       "      <td>S</td>\n",
       "      <td>Miss</td>\n",
       "      <td>0.0</td>\n",
       "    </tr>\n",
       "    <tr>\n",
       "      <th>888</th>\n",
       "      <td>0</td>\n",
       "      <td>3</td>\n",
       "      <td>Johnston, Miss. Catherine Helen \"Carrie\"</td>\n",
       "      <td>female</td>\n",
       "      <td>0.367921</td>\n",
       "      <td>0.045771</td>\n",
       "      <td>S</td>\n",
       "      <td>Miss</td>\n",
       "      <td>0.3</td>\n",
       "    </tr>\n",
       "    <tr>\n",
       "      <th>889</th>\n",
       "      <td>1</td>\n",
       "      <td>1</td>\n",
       "      <td>Behr, Mr. Karl Howell</td>\n",
       "      <td>male</td>\n",
       "      <td>0.321438</td>\n",
       "      <td>0.058556</td>\n",
       "      <td>C</td>\n",
       "      <td>Mr</td>\n",
       "      <td>0.0</td>\n",
       "    </tr>\n",
       "    <tr>\n",
       "      <th>890</th>\n",
       "      <td>0</td>\n",
       "      <td>3</td>\n",
       "      <td>Dooley, Mr. Patrick</td>\n",
       "      <td>male</td>\n",
       "      <td>0.396833</td>\n",
       "      <td>0.015127</td>\n",
       "      <td>Q</td>\n",
       "      <td>Mr</td>\n",
       "      <td>0.0</td>\n",
       "    </tr>\n",
       "  </tbody>\n",
       "</table>\n",
       "<p>891 rows × 9 columns</p>\n",
       "</div>"
      ],
      "text/plain": [
       "     Survived  Pclass                                               Name  \\\n",
       "0           0       3                            Braund, Mr. Owen Harris   \n",
       "1           1       1  Cumings, Mrs. John Bradley (Florence Briggs Th...   \n",
       "2           1       3                             Heikkinen, Miss. Laina   \n",
       "3           1       1       Futrelle, Mrs. Jacques Heath (Lily May Peel)   \n",
       "4           0       3                           Allen, Mr. William Henry   \n",
       "..        ...     ...                                                ...   \n",
       "886         0       2                              Montvila, Rev. Juozas   \n",
       "887         1       1                       Graham, Miss. Margaret Edith   \n",
       "888         0       3           Johnston, Miss. Catherine Helen \"Carrie\"   \n",
       "889         1       1                              Behr, Mr. Karl Howell   \n",
       "890         0       3                                Dooley, Mr. Patrick   \n",
       "\n",
       "        Sex       Age      Fare Embarked Title  Family_Members  \n",
       "0      male  0.271174  0.014151        S    Mr             0.1  \n",
       "1    female  0.472229  0.139136        C   Mrs             0.1  \n",
       "2    female  0.321438  0.015469        S  Miss             0.0  \n",
       "3    female  0.434531  0.103644        S   Mrs             0.1  \n",
       "4      male  0.434531  0.015713        S    Mr             0.0  \n",
       "..      ...       ...       ...      ...   ...             ...  \n",
       "886    male  0.334004  0.025374        S   Rev             0.0  \n",
       "887  female  0.233476  0.058556        S  Miss             0.0  \n",
       "888  female  0.367921  0.045771        S  Miss             0.3  \n",
       "889    male  0.321438  0.058556        C    Mr             0.0  \n",
       "890    male  0.396833  0.015127        Q    Mr             0.0  \n",
       "\n",
       "[891 rows x 9 columns]"
      ]
     },
     "metadata": {},
     "output_type": "display_data"
    }
   ],
   "source": [
    "#write code here to normalize data\n",
    "\n",
    "train_df[\"Age\"] = (train_df[\"Age\"] - train_df[\"Age\"].min()) / (train_df[\"Age\"].max() - train_df[\"Age\"].min())\n",
    "train_df[\"Fare\"] = (train_df[\"Fare\"] - train_df[\"Fare\"].min()) / (train_df[\"Fare\"].max() - train_df[\"Fare\"].min())\n",
    "train_df[\"Family_Members\"] = (train_df[\"Family_Members\"] - train_df[\"Family_Members\"].min()) / (train_df[\"Family_Members\"].max() - train_df[\"Family_Members\"].min())\n",
    "\n",
    "# view normalized data\n",
    "display(train_df)\n",
    "\n"
   ]
  },
  {
   "cell_type": "code",
   "execution_count": null,
   "metadata": {
    "id": "C88SQvKkm-r8"
   },
   "outputs": [],
   "source": []
  },
  {
   "cell_type": "markdown",
   "metadata": {
    "id": "8KXM4Xe0m-bj"
   },
   "source": [
    "### 5.e. One hot encoding\n",
    "Machine Learning models do not understand strings <br>\n",
    "They understand numbers<br>\n",
    "That is one of the reasons why we one hot encode few columns<br>\n",
    "\n",
    "- refer this link for more information : https://datagy.io/pandas-get-dummies/\n",
    "- you can use this or directly look into pandas get_dummies() method to implement this"
   ]
  },
  {
   "cell_type": "markdown",
   "metadata": {
    "id": "1IIsD-KcpVBc"
   },
   "source": [
    "- columns to apply one_hot encoding on\n",
    " - Pclass\n",
    " - Sex\n",
    " - Title\n",
    " - Embarked\n"
   ]
  },
  {
   "cell_type": "code",
   "execution_count": 59,
   "metadata": {
    "id": "Y60WNgwLjrmn"
   },
   "outputs": [],
   "source": [
    "#write code here\n",
    "df_ohe = pd.get_dummies(train_df, columns=[\"Pclass\", \"Sex\", \"Title\", \"Embarked\"])"
   ]
  },
  {
   "cell_type": "code",
   "execution_count": 60,
   "metadata": {
    "id": "r4wogy53paiL"
   },
   "outputs": [
    {
     "name": "stdout",
     "output_type": "stream",
     "text": [
      "     Survived                                               Name       Age  \\\n",
      "0           0                            Braund, Mr. Owen Harris  0.271174   \n",
      "1           1  Cumings, Mrs. John Bradley (Florence Briggs Th...  0.472229   \n",
      "2           1                             Heikkinen, Miss. Laina  0.321438   \n",
      "3           1       Futrelle, Mrs. Jacques Heath (Lily May Peel)  0.434531   \n",
      "4           0                           Allen, Mr. William Henry  0.434531   \n",
      "..        ...                                                ...       ...   \n",
      "886         0                              Montvila, Rev. Juozas  0.334004   \n",
      "887         1                       Graham, Miss. Margaret Edith  0.233476   \n",
      "888         0           Johnston, Miss. Catherine Helen \"Carrie\"  0.367921   \n",
      "889         1                              Behr, Mr. Karl Howell  0.321438   \n",
      "890         0                                Dooley, Mr. Patrick  0.396833   \n",
      "\n",
      "         Fare  Family_Members  Pclass_1  Pclass_2  Pclass_3  Sex_female  \\\n",
      "0    0.014151             0.1         0         0         1           0   \n",
      "1    0.139136             0.1         1         0         0           1   \n",
      "2    0.015469             0.0         0         0         1           1   \n",
      "3    0.103644             0.1         1         0         0           1   \n",
      "4    0.015713             0.0         0         0         1           0   \n",
      "..        ...             ...       ...       ...       ...         ...   \n",
      "886  0.025374             0.0         0         1         0           0   \n",
      "887  0.058556             0.0         1         0         0           1   \n",
      "888  0.045771             0.3         0         0         1           1   \n",
      "889  0.058556             0.0         1         0         0           0   \n",
      "890  0.015127             0.0         0         0         1           0   \n",
      "\n",
      "     Sex_male  ...  Title_Mlle  Title_Mme  Title_Mr  Title_Mrs  Title_Ms  \\\n",
      "0           1  ...           0          0         1          0         0   \n",
      "1           0  ...           0          0         0          1         0   \n",
      "2           0  ...           0          0         0          0         0   \n",
      "3           0  ...           0          0         0          1         0   \n",
      "4           1  ...           0          0         1          0         0   \n",
      "..        ...  ...         ...        ...       ...        ...       ...   \n",
      "886         1  ...           0          0         0          0         0   \n",
      "887         0  ...           0          0         0          0         0   \n",
      "888         0  ...           0          0         0          0         0   \n",
      "889         1  ...           0          0         1          0         0   \n",
      "890         1  ...           0          0         1          0         0   \n",
      "\n",
      "     Title_Rev  Title_Sir  Embarked_C  Embarked_Q  Embarked_S  \n",
      "0            0          0           0           0           1  \n",
      "1            0          0           1           0           0  \n",
      "2            0          0           0           0           1  \n",
      "3            0          0           0           0           1  \n",
      "4            0          0           0           0           1  \n",
      "..         ...        ...         ...         ...         ...  \n",
      "886          1          0           0           0           1  \n",
      "887          0          0           0           0           1  \n",
      "888          0          0           0           0           1  \n",
      "889          0          0           1           0           0  \n",
      "890          0          0           0           1           0  \n",
      "\n",
      "[891 rows x 30 columns]\n"
     ]
    }
   ],
   "source": [
    "#show the final dataframe here\n",
    "print(df_ohe)"
   ]
  },
  {
   "cell_type": "markdown",
   "metadata": {
    "id": "QhGsnsY4puYz"
   },
   "source": [
    "End of Preprocessing"
   ]
  },
  {
   "cell_type": "code",
   "execution_count": null,
   "metadata": {
    "id": "Wa1zcX8_pyk5"
   },
   "outputs": [],
   "source": []
  }
 ],
 "metadata": {
  "colab": {
   "name": "Task1.ipynb",
   "provenance": [
    {
     "file_id": "104rkhBnX-dWZRNvhXt_bZ_PtX8-0uoRN",
     "timestamp": 1632739771478
    }
   ]
  },
  "kernelspec": {
   "display_name": "Python 3",
   "language": "python",
   "name": "python3"
  },
  "language_info": {
   "codemirror_mode": {
    "name": "ipython",
    "version": 3
   },
   "file_extension": ".py",
   "mimetype": "text/x-python",
   "name": "python",
   "nbconvert_exporter": "python",
   "pygments_lexer": "ipython3",
   "version": "3.8.8"
  }
 },
 "nbformat": 4,
 "nbformat_minor": 1
}
